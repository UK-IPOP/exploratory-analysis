{
 "cells": [
  {
   "cell_type": "markdown",
   "metadata": {
    "cell_id": "00000-e90c8e00-a404-48b5-9a72-1e610496453a",
    "deepnote_cell_type": "markdown",
    "tags": []
   },
   "source": [
    "# Practice Geocoding"
   ]
  },
  {
   "cell_type": "markdown",
   "metadata": {
    "cell_id": "00001-627e41a0-4cc9-43e5-a99f-60795b0dd222",
    "deepnote_cell_type": "markdown",
    "tags": []
   },
   "source": [
    "## 1. Installs and Imports"
   ]
  },
  {
   "cell_type": "code",
   "execution_count": 1,
   "metadata": {
    "ExecuteTime": {
     "end_time": "2021-02-25T13:55:12.210395Z",
     "start_time": "2021-02-25T13:55:11.581415Z"
    },
    "cell_id": "00002-9974bdb8-2f7b-4694-a2ba-ab7eb2bf1cad",
    "deepnote_cell_type": "code",
    "deepnote_to_be_reexecuted": false,
    "execution_millis": 1,
    "execution_start": 1612544849613,
    "source_hash": "e7c5fb2",
    "tags": []
   },
   "outputs": [],
   "source": [
    "# non-standard lib imports\n",
    "from geopy.extra.rate_limiter import RateLimiter\n",
    "from geopy.geocoders import ArcGIS\n",
    "from geopy import distance\n",
    "from geopy.point import Point\n",
    "import geopy\n",
    "import shapefile\n",
    "import pandas as pd\n",
    "import plotly.express as px\n",
    "\n",
    "# standard lib\n",
    "import math"
   ]
  },
  {
   "cell_type": "markdown",
   "metadata": {
    "cell_id": "00004-2204f25d-6a4b-4dc9-9016-486b84e75af6",
    "deepnote_cell_type": "markdown",
    "tags": []
   },
   "source": [
    "## 2. Start Geocoding"
   ]
  },
  {
   "cell_type": "code",
   "execution_count": 2,
   "metadata": {
    "ExecuteTime": {
     "end_time": "2021-02-24T16:36:28.568786Z",
     "start_time": "2021-02-24T16:36:28.552221Z"
    },
    "cell_id": "00003-9f849075-efef-4242-a5b4-c425c4198163",
    "deepnote_cell_type": "code",
    "deepnote_to_be_reexecuted": false,
    "execution_millis": 2,
    "execution_start": 1612544077592,
    "source_hash": "f0f106d3",
    "tags": []
   },
   "outputs": [],
   "source": [
    "# initialize geocoder using ArcGIS mapping systems\n",
    "geocoder = ArcGIS()"
   ]
  },
  {
   "cell_type": "markdown",
   "metadata": {
    "cell_id": "00006-2ca720c5-ba65-4bbe-ba97-01dad2451fe3",
    "deepnote_cell_type": "markdown",
    "tags": []
   },
   "source": [
    "Geocoded addresses return the geocoded address, and a tuple of lat, long, alt.\n",
    "\n",
    "Sample geocoding solution:"
   ]
  },
  {
   "cell_type": "code",
   "execution_count": 3,
   "metadata": {
    "ExecuteTime": {
     "end_time": "2021-02-24T16:36:29.509896Z",
     "start_time": "2021-02-24T16:36:29.206124Z"
    },
    "cell_id": "00003-d0e9ba72-8bf0-48ee-a3a7-7c1039fd95e7",
    "deepnote_cell_type": "code",
    "deepnote_to_be_reexecuted": false,
    "execution_millis": 6,
    "execution_start": 1612544353455,
    "source_hash": "a5b7276e",
    "tags": []
   },
   "outputs": [
    {
     "data": {
      "text/plain": [
       "Location(2419 Ashbury Cir, Cape Coral, Florida, 33991, (26.62169000442219, -82.02573496942675, 0.0))"
      ]
     },
     "execution_count": 3,
     "metadata": {},
     "output_type": "execute_result"
    }
   ],
   "source": [
    "str_loc1: str = '2419 Ashbury Circle Cape Coral, FL 33991'\n",
    "coded1: geopy.location.Location = geocoder.geocode(str_loc1)\n",
    "coded1"
   ]
  },
  {
   "cell_type": "code",
   "execution_count": 4,
   "metadata": {
    "ExecuteTime": {
     "end_time": "2021-02-24T16:36:29.672551Z",
     "start_time": "2021-02-24T16:36:29.584686Z"
    },
    "cell_id": "00004-39d92679-8a0a-426c-a4b1-0c6dc5857440",
    "deepnote_cell_type": "code",
    "deepnote_to_be_reexecuted": false,
    "execution_millis": 90,
    "execution_start": 1612544353800,
    "source_hash": "416e3bb0",
    "tags": []
   },
   "outputs": [
    {
     "data": {
      "text/plain": [
       "Location(2855 Gulf To Bay Blvd, Clearwater, Florida, 33759, (27.95835600139496, -82.720330964178, 0.0))"
      ]
     },
     "execution_count": 4,
     "metadata": {},
     "output_type": "execute_result"
    }
   ],
   "source": [
    "str_loc2: str = '2855 Gulf to Bay Blvd Clearwater FL 33759'\n",
    "coded2: geopy.location.Location = geocoder.geocode(str_loc2)\n",
    "coded2"
   ]
  },
  {
   "cell_type": "markdown",
   "metadata": {
    "cell_id": "00009-f044a171-5869-4fd5-8aa7-64badfd31bfa",
    "deepnote_cell_type": "markdown",
    "tags": []
   },
   "source": [
    "Calculate distance between two addresses.\n",
    "\n",
    "**\\*Important**: geopy.distance.lonlat takes longitude first, *then* latitude.\n",
    "\n",
    "Steps:\n",
    "- Convert a geopy.location.Location into a geopy.point.Point using geopy.distance.lonlat\n",
    "- Use geopy.distance.distance to calculate distance between Points"
   ]
  },
  {
   "cell_type": "code",
   "execution_count": 5,
   "metadata": {
    "ExecuteTime": {
     "end_time": "2021-02-24T16:36:30.720325Z",
     "start_time": "2021-02-24T16:36:30.713799Z"
    },
    "cell_id": "00005-0b6f0f29-0493-4965-8888-33a9ee41662c",
    "deepnote_cell_type": "code",
    "deepnote_to_be_reexecuted": false,
    "execution_millis": 16,
    "execution_start": 1612544603136,
    "source_hash": "71942e47",
    "tags": []
   },
   "outputs": [
    {
     "data": {
      "text/plain": [
       "Distance(69.17116695821905)"
      ]
     },
     "execution_count": 5,
     "metadata": {},
     "output_type": "execute_result"
    }
   ],
   "source": [
    "p1 = distance.lonlat(coded1.longitude, coded1.latitude)\n",
    "p2 = distance.lonlat(coded2.longitude, coded1.latitude)\n",
    "d = distance.distance(p1, p2)\n",
    "d"
   ]
  },
  {
   "cell_type": "markdown",
   "metadata": {
    "cell_id": "00011-a41d9545-c56c-47a6-8655-1438b179af67",
    "deepnote_cell_type": "markdown",
    "tags": []
   },
   "source": [
    "Returned Distance is a **straight line** and defaults to kilometers (km) but can be converted to miles."
   ]
  },
  {
   "cell_type": "code",
   "execution_count": 6,
   "metadata": {
    "ExecuteTime": {
     "end_time": "2021-02-24T16:36:31.526492Z",
     "start_time": "2021-02-24T16:36:31.522834Z"
    },
    "cell_id": "00012-acc8e6d8-ee52-4da1-9cad-5c924540a363",
    "deepnote_cell_type": "code",
    "deepnote_to_be_reexecuted": false,
    "execution_millis": 6,
    "execution_start": 1612544616855,
    "source_hash": "4925704e",
    "tags": []
   },
   "outputs": [
    {
     "name": "stdout",
     "output_type": "stream",
     "text": [
      "Kilometers: 69.17116695821905\n",
      "Miles: 42.980970481276245\n"
     ]
    }
   ],
   "source": [
    "print(f\"Kilometers: {d.km}\")\n",
    "print(f\"Miles: {d.miles}\")"
   ]
  },
  {
   "cell_type": "markdown",
   "metadata": {
    "cell_id": "00013-daaec186-b395-4425-8f9f-45ef3a8e27c0",
    "deepnote_cell_type": "markdown",
    "tags": []
   },
   "source": [
    "## 3. Geocode Addresses from Data File"
   ]
  },
  {
   "cell_type": "code",
   "execution_count": 2,
   "metadata": {
    "ExecuteTime": {
     "end_time": "2021-02-25T13:55:16.305601Z",
     "start_time": "2021-02-25T13:55:16.259747Z"
    },
    "cell_id": "00010-b11f5918-e471-4da4-aefb-33abab3dbc2a",
    "deepnote_cell_type": "code",
    "deepnote_to_be_reexecuted": false,
    "execution_millis": 71,
    "execution_start": 1612544686374,
    "scrolled": true,
    "source_hash": "44d171bb",
    "tags": []
   },
   "outputs": [
    {
     "data": {
      "text/html": [
       "<div>\n",
       "<style scoped>\n",
       "    .dataframe tbody tr th:only-of-type {\n",
       "        vertical-align: middle;\n",
       "    }\n",
       "\n",
       "    .dataframe tbody tr th {\n",
       "        vertical-align: top;\n",
       "    }\n",
       "\n",
       "    .dataframe thead th {\n",
       "        text-align: right;\n",
       "    }\n",
       "</style>\n",
       "<table border=\"1\" class=\"dataframe\">\n",
       "  <thead>\n",
       "    <tr style=\"text-align: right;\">\n",
       "      <th></th>\n",
       "      <th>Location Address</th>\n",
       "      <th>City</th>\n",
       "      <th>State Code</th>\n",
       "      <th>Zip</th>\n",
       "    </tr>\n",
       "  </thead>\n",
       "  <tbody>\n",
       "    <tr>\n",
       "      <th>141</th>\n",
       "      <td>1041 POND CREEK RD</td>\n",
       "      <td>STONE</td>\n",
       "      <td>KY</td>\n",
       "      <td>41567.0</td>\n",
       "    </tr>\n",
       "    <tr>\n",
       "      <th>146</th>\n",
       "      <td>899 RESERVOIR RD</td>\n",
       "      <td>NEW CASTLE</td>\n",
       "      <td>KY</td>\n",
       "      <td>40050.0</td>\n",
       "    </tr>\n",
       "    <tr>\n",
       "      <th>205</th>\n",
       "      <td>SEWER PLANT RD</td>\n",
       "      <td>CROFTON</td>\n",
       "      <td>KY</td>\n",
       "      <td>42217.0</td>\n",
       "    </tr>\n",
       "  </tbody>\n",
       "</table>\n",
       "</div>"
      ],
      "text/plain": [
       "       Location Address        City State Code      Zip\n",
       "141  1041 POND CREEK RD       STONE         KY  41567.0\n",
       "146    899 RESERVOIR RD  NEW CASTLE         KY  40050.0\n",
       "205      SEWER PLANT RD     CROFTON         KY  42217.0"
      ]
     },
     "execution_count": 2,
     "metadata": {},
     "output_type": "execute_result"
    }
   ],
   "source": [
    "target_cols = ('Location Address', 'City', 'State Code', 'Zip')\n",
    "df = pd.read_csv('../data/wastewater_plants.csv', usecols=target_cols)\n",
    "df.dropna(inplace=True, how='all') # remove null rows\n",
    "df.sample(3)"
   ]
  },
  {
   "cell_type": "markdown",
   "metadata": {
    "cell_id": "00015-fc4a272a-e148-4b12-a0fe-13e429cfe252",
    "deepnote_cell_type": "markdown",
    "tags": []
   },
   "source": [
    "Combine address fields into one column."
   ]
  },
  {
   "cell_type": "code",
   "execution_count": 3,
   "metadata": {
    "ExecuteTime": {
     "end_time": "2021-02-25T13:55:18.571636Z",
     "start_time": "2021-02-25T13:55:18.566339Z"
    },
    "cell_id": "00011-68191eed-7f3c-4a05-ad71-71736a1fcf0c",
    "deepnote_cell_type": "code",
    "deepnote_to_be_reexecuted": false,
    "execution_millis": 0,
    "execution_start": 1612544802287,
    "source_hash": "39cd8f8d",
    "tags": []
   },
   "outputs": [],
   "source": [
    "def combine_address_fields(row) -> str:\n",
    "    \"\"\"Concatenates address fields into one column/string value.\n",
    "    \n",
    "    Args:\n",
    "        row: pandas dataframe row with 'Location Address', 'City', 'State Code', and 'Zip' columns\n",
    "\n",
    "    Returns:\n",
    "        str: full address\n",
    "\n",
    "    \"\"\"\n",
    "    return f\"{row['Location Address']} {row['City']} {row['State Code']} {row['Zip']}\""
   ]
  },
  {
   "cell_type": "code",
   "execution_count": 4,
   "metadata": {
    "ExecuteTime": {
     "end_time": "2021-02-25T13:55:26.539993Z",
     "start_time": "2021-02-25T13:55:26.513017Z"
    },
    "cell_id": "00011-20c038f9-9fef-45fd-95ae-7826eebd3f4e",
    "deepnote_cell_type": "code",
    "deepnote_to_be_reexecuted": false,
    "execution_millis": 17,
    "execution_start": 1612544827995,
    "source_hash": "fad2eb6c",
    "tags": []
   },
   "outputs": [
    {
     "data": {
      "text/plain": [
       "233    500 CARTER RD OAK GROVE KY 42262.0\n",
       "302             KY 244 RUSSELL KY 41169.0\n",
       "112    INDUSTRY PARK RD FULTON KY 42041.0\n",
       "Name: full_address, dtype: object"
      ]
     },
     "execution_count": 4,
     "metadata": {},
     "output_type": "execute_result"
    }
   ],
   "source": [
    "# apply function\n",
    "df['full_address'] = df.apply(lambda row: combine_address_fields(row), axis=1)\n",
    "df.full_address.sample(3)"
   ]
  },
  {
   "cell_type": "markdown",
   "metadata": {
    "cell_id": "00018-2e09b1bc-3e93-4a18-ad08-66354716c213",
    "deepnote_cell_type": "markdown",
    "tags": []
   },
   "source": [
    "Geocode file using new column and geopy's RateLimiter, takes about 10 minutes."
   ]
  },
  {
   "cell_type": "code",
   "execution_count": 5,
   "metadata": {
    "ExecuteTime": {
     "end_time": "2021-02-25T14:01:56.401293Z",
     "start_time": "2021-02-25T13:55:28.467013Z"
    },
    "cell_id": "00014-201f7237-dd75-4271-9386-164b593f7d6e",
    "deepnote_cell_type": "code",
    "deepnote_to_be_reexecuted": false,
    "execution_millis": 386290,
    "execution_start": 1612545686453,
    "output_cleared": true,
    "source_hash": "90c6e139",
    "tags": []
   },
   "outputs": [],
   "source": [
    "# initialize new geocoder\n",
    "geolocator = ArcGIS()\n",
    "# pass locator to RateLimiter with delay\n",
    "geocode = RateLimiter(geolocator.geocode, min_delay_seconds=1)\n",
    "# apply rate-limited geocoder to the full_address column, save result in location column\n",
    "df['location'] = df['full_address'].apply(geocode)"
   ]
  },
  {
   "cell_type": "markdown",
   "metadata": {
    "cell_id": "00020-67ef4ee7-5067-4845-9b3a-8f2ee8600e42",
    "deepnote_cell_type": "markdown",
    "tags": []
   },
   "source": [
    "Parse out location column into latitude and longitude columns."
   ]
  },
  {
   "cell_type": "code",
   "execution_count": 6,
   "metadata": {
    "ExecuteTime": {
     "end_time": "2021-02-25T14:01:56.461518Z",
     "start_time": "2021-02-25T14:01:56.442973Z"
    },
    "cell_id": "00017-e1950c6b-d483-431a-8e79-9579f4cce97a",
    "deepnote_cell_type": "code",
    "deepnote_to_be_reexecuted": false,
    "execution_millis": 0,
    "execution_start": 1612546072784,
    "source_hash": "ca15d544",
    "tags": []
   },
   "outputs": [],
   "source": [
    "df['latitude'] = df.location.apply(lambda x: x.latitude)\n",
    "df['longitude'] = df.location.apply(lambda x: x.longitude)\n",
    "df.drop(['location'], axis=1, inplace=True) # drop location column"
   ]
  },
  {
   "cell_type": "code",
   "execution_count": 18,
   "metadata": {
    "ExecuteTime": {
     "end_time": "2021-02-25T14:27:50.847812Z",
     "start_time": "2021-02-25T14:27:50.829954Z"
    }
   },
   "outputs": [],
   "source": [
    "# read shapefile for rest stops\n",
    "shape = shapefile.Reader(\"../data/layer/RestAreaLocations_KYSZ.shp\")\n",
    "\n",
    "#first feature of the shapefile\n",
    "features = shape.shapeRecords()\n",
    "\n",
    "# make points\n",
    "points = []\n",
    "for feature in features.__geo_interface__['features']:\n",
    "    point = Point(\n",
    "        latitude=feature['properties']['Latitude'], \n",
    "        longitude=feature['properties']['Longitude']\n",
    "    )\n",
    "    points.append(point)\n",
    "\n",
    "# use points to make new df with lat/long and concat to previous\n",
    "rest_stops = pd.DataFrame.from_records([(p.latitude, p.longitude, 'Yes') for p in points], columns=('latitude', 'longitude', 'rest_stop'))\n",
    "total = pd.concat([df, rest_stops])\n",
    "total.reset_index(inplace=True, drop=True)"
   ]
  },
  {
   "cell_type": "code",
   "execution_count": 19,
   "metadata": {
    "ExecuteTime": {
     "end_time": "2021-02-25T14:27:57.338270Z",
     "start_time": "2021-02-25T14:27:57.330245Z"
    }
   },
   "outputs": [],
   "source": [
    "# measure distances for each point\n",
    "def get_closest(df: pd.DataFrame) -> list[float]:\n",
    "    indeces = []\n",
    "    for i, row in df.iterrows():\n",
    "        if row.rest_stop:\n",
    "            target = Point(latitude=row.latitude, longitude=row.longitude)\n",
    "            sample = df[df.rest_stop != 'Yes']\n",
    "            others = [\n",
    "                Point(latitude=lat, longitude=long) \n",
    "                for lat, long in zip(sample.latitude.values, sample.longitude.values)\n",
    "            ]\n",
    "            distances = [distance.distance(target, point) for point in others]\n",
    "            closest = min(distances)\n",
    "            index = distances.index(closest)\n",
    "            indeces.append(index)\n",
    "        else:\n",
    "            indeces.append(None)\n",
    "    return indeces"
   ]
  },
  {
   "cell_type": "code",
   "execution_count": 20,
   "metadata": {
    "ExecuteTime": {
     "end_time": "2021-02-25T14:28:20.228443Z",
     "start_time": "2021-02-25T14:27:58.028014Z"
    }
   },
   "outputs": [],
   "source": [
    "# apply above function\n",
    "closest_indeces = get_closest(total)\n",
    "total['closest'] = closest_indeces"
   ]
  },
  {
   "cell_type": "code",
   "execution_count": 26,
   "metadata": {
    "ExecuteTime": {
     "end_time": "2021-02-25T14:29:03.719126Z",
     "start_time": "2021-02-25T14:29:03.708067Z"
    }
   },
   "outputs": [],
   "source": [
    "# apply color column for closest to match point colors on eventually\n",
    "def color(df: pd.DataFrame) -> list[str]:\n",
    "    new_df = df.copy()\n",
    "    new_df['color'] = '#FFFFFF'\n",
    "    colors = px.colors.qualitative.Alphabet\n",
    "    colors.append('#000000')\n",
    "    \n",
    "    temp = df[df.rest_stop == 'Yes'].reset_index()\n",
    "    temp.columns = temp.columns[1:].insert(0, 'old_index')\n",
    "    assert len(temp) == 27\n",
    "    for i in range(27):\n",
    "        # use this to color all 'close points' red\n",
    "        #selected_color = px.colors.qualitative.Plotly[1]\n",
    "        \n",
    "        # use this to select color based on alphabaet pallete of 26\n",
    "        selected_color = colors[i]\n",
    "        \n",
    "        temp.loc[i].color = selected_color\n",
    "        old = temp.loc[i].old_index\n",
    "        closest = temp.loc[i].closest\n",
    "        new_df.loc[old, 'color'] = selected_color\n",
    "        new_df.loc[closest, 'color'] = selected_color\n",
    "    return new_df\n",
    "            "
   ]
  },
  {
   "cell_type": "code",
   "execution_count": 27,
   "metadata": {
    "ExecuteTime": {
     "end_time": "2021-02-25T14:29:04.033575Z",
     "start_time": "2021-02-25T14:29:03.992765Z"
    },
    "scrolled": false
   },
   "outputs": [
    {
     "data": {
      "text/html": [
       "<div>\n",
       "<style scoped>\n",
       "    .dataframe tbody tr th:only-of-type {\n",
       "        vertical-align: middle;\n",
       "    }\n",
       "\n",
       "    .dataframe tbody tr th {\n",
       "        vertical-align: top;\n",
       "    }\n",
       "\n",
       "    .dataframe thead th {\n",
       "        text-align: right;\n",
       "    }\n",
       "</style>\n",
       "<table border=\"1\" class=\"dataframe\">\n",
       "  <thead>\n",
       "    <tr style=\"text-align: right;\">\n",
       "      <th></th>\n",
       "      <th>Location Address</th>\n",
       "      <th>City</th>\n",
       "      <th>State Code</th>\n",
       "      <th>Zip</th>\n",
       "      <th>full_address</th>\n",
       "      <th>latitude</th>\n",
       "      <th>longitude</th>\n",
       "      <th>rest_stop</th>\n",
       "      <th>closest</th>\n",
       "      <th>color</th>\n",
       "    </tr>\n",
       "  </thead>\n",
       "  <tbody>\n",
       "    <tr>\n",
       "      <th>409</th>\n",
       "      <td>NaN</td>\n",
       "      <td>NaN</td>\n",
       "      <td>NaN</td>\n",
       "      <td>NaN</td>\n",
       "      <td>NaN</td>\n",
       "      <td>38.203385</td>\n",
       "      <td>-85.329298</td>\n",
       "      <td>Yes</td>\n",
       "      <td>199</td>\n",
       "      <td>#FC1CBF</td>\n",
       "    </tr>\n",
       "    <tr>\n",
       "      <th>410</th>\n",
       "      <td>NaN</td>\n",
       "      <td>NaN</td>\n",
       "      <td>NaN</td>\n",
       "      <td>NaN</td>\n",
       "      <td>NaN</td>\n",
       "      <td>36.643445</td>\n",
       "      <td>-86.568690</td>\n",
       "      <td>Yes</td>\n",
       "      <td>119</td>\n",
       "      <td>#B00068</td>\n",
       "    </tr>\n",
       "    <tr>\n",
       "      <th>411</th>\n",
       "      <td>NaN</td>\n",
       "      <td>NaN</td>\n",
       "      <td>NaN</td>\n",
       "      <td>NaN</td>\n",
       "      <td>NaN</td>\n",
       "      <td>36.616147</td>\n",
       "      <td>-84.105513</td>\n",
       "      <td>Yes</td>\n",
       "      <td>128</td>\n",
       "      <td>#FBE426</td>\n",
       "    </tr>\n",
       "    <tr>\n",
       "      <th>412</th>\n",
       "      <td>NaN</td>\n",
       "      <td>NaN</td>\n",
       "      <td>NaN</td>\n",
       "      <td>NaN</td>\n",
       "      <td>NaN</td>\n",
       "      <td>38.168718</td>\n",
       "      <td>-84.766075</td>\n",
       "      <td>Yes</td>\n",
       "      <td>133</td>\n",
       "      <td>#FA0087</td>\n",
       "    </tr>\n",
       "    <tr>\n",
       "      <th>413</th>\n",
       "      <td>NaN</td>\n",
       "      <td>NaN</td>\n",
       "      <td>NaN</td>\n",
       "      <td>NaN</td>\n",
       "      <td>NaN</td>\n",
       "      <td>38.170222</td>\n",
       "      <td>-84.766152</td>\n",
       "      <td>Yes</td>\n",
       "      <td>133</td>\n",
       "      <td>#000000</td>\n",
       "    </tr>\n",
       "  </tbody>\n",
       "</table>\n",
       "</div>"
      ],
      "text/plain": [
       "    Location Address City State Code  Zip full_address   latitude  longitude  \\\n",
       "409              NaN  NaN        NaN  NaN          NaN  38.203385 -85.329298   \n",
       "410              NaN  NaN        NaN  NaN          NaN  36.643445 -86.568690   \n",
       "411              NaN  NaN        NaN  NaN          NaN  36.616147 -84.105513   \n",
       "412              NaN  NaN        NaN  NaN          NaN  38.168718 -84.766075   \n",
       "413              NaN  NaN        NaN  NaN          NaN  38.170222 -84.766152   \n",
       "\n",
       "    rest_stop  closest    color  \n",
       "409       Yes      199  #FC1CBF  \n",
       "410       Yes      119  #B00068  \n",
       "411       Yes      128  #FBE426  \n",
       "412       Yes      133  #FA0087  \n",
       "413       Yes      133  #000000  "
      ]
     },
     "execution_count": 27,
     "metadata": {},
     "output_type": "execute_result"
    }
   ],
   "source": [
    "# apply color function\n",
    "colored = color(total)\n",
    "colored.tail()"
   ]
  },
  {
   "cell_type": "markdown",
   "metadata": {
    "cell_id": "00022-8738006e-0b5e-4e49-9ed1-e553f3924274",
    "deepnote_cell_type": "markdown",
    "tags": []
   },
   "source": [
    "## 4. Map Geocoded Addresses (Interactive)"
   ]
  },
  {
   "cell_type": "code",
   "execution_count": 28,
   "metadata": {
    "ExecuteTime": {
     "end_time": "2021-02-25T14:29:05.164826Z",
     "start_time": "2021-02-25T14:29:05.057002Z"
    },
    "cell_id": "00010-ce91edb9-6d11-4ca6-ab72-3d01d46829ef",
    "deepnote_cell_type": "code",
    "deepnote_to_be_reexecuted": false,
    "execution_millis": 52,
    "execution_start": 1612546443383,
    "output_cleared": false,
    "scrolled": false,
    "source_hash": "43acb554",
    "tags": []
   },
   "outputs": [
    {
     "data": {
      "application/vnd.plotly.v1+json": {
       "config": {
        "plotlyServerURL": "https://plot.ly"
       },
       "data": [
        {
         "hovertemplate": "<b>%{hovertext}</b><br><br>color=#FFFFFF<br>latitude=%{lat}<br>longitude=%{lon}<extra></extra>",
         "hovertext": [
          "LA GRANGE",
          "GREENVILLE",
          "MARION",
          "HAZARD",
          "HAWESVILLE",
          "OWENSBORO",
          "CALHOUN",
          "CITY OF CORBIN",
          "GEORGETOWN",
          "MAYSVILLE",
          "KUTTAWA",
          "SHELBYVILLE",
          "LIVERMORE",
          "VERSAILLES",
          "PAINTSVILLE",
          "TOMPKINSVILLE",
          "HENDERSON",
          "RUSSELLVILLE",
          "ADAIRVILLE",
          "LA CENTER",
          "SPRINGFIELD",
          "CARLISLE",
          "MILLERSBURG",
          "ELKHORN CITY",
          "LANCASTER",
          "TRENTON",
          "WILLIAMSTOWN",
          "HARDIN",
          "MORGANTOWN",
          "BUTLER",
          "LAWRENCEBURG",
          "BEATTYVILLE",
          "CALVERT CITY",
          "GLASGOW",
          "BENTON",
          "AUBURN",
          "MAYFIELD",
          "FLEMINGSBURG",
          "BARDSTOWN",
          "HYDEN",
          "AUGUSTA",
          "JACKSON",
          "PROVIDENCE",
          "MORGANFIELD",
          "ERLANGER",
          "BRANDENBURG",
          "LEXINGTON",
          "NICHOLASVILLE",
          "VANCEBURG",
          "CUMBERLAND",
          "ELIZABETHTOWN",
          "WEST POINT",
          "ASHLAND",
          "RADCLIFF",
          "BOWLING GREEN",
          "LOUISVILLE",
          "LOUISVILLE",
          "LOUISVILLE",
          "PADUCAH",
          "RICHMOND",
          "RICHMOND",
          "FRANKFORT",
          "WORTHINGTON",
          "LEITCHFIELD",
          "HOPKINSVILLE",
          "BROWNSVILLE",
          "ELKTON",
          "CENTRAL CITY",
          "GREENSBURG",
          "DAWSON SPRINGS",
          "PINEVILLE",
          "BARBOURVILLE",
          "LYNCH",
          "OWINGSVILLE",
          "ALBANY",
          "COLUMBIA",
          "AURORA",
          "STANFORD",
          "MOUNT VERNON",
          "CRESTWOOD",
          "SCOTTSVILLE",
          "LEWISBURG",
          "VINE GROVE",
          "CLAY CITY",
          "JEFFERSONTOWN",
          "BROOKSVILLE",
          "LEWISPORT",
          "CLINTON",
          "PIKEVILLE",
          "BARLOW",
          "BENHAM",
          "PADUCAH",
          "SMITHLAND",
          "UNIONTOWN",
          "WINGO",
          "STURGIS",
          "OLIVE HILL",
          "WICKLIFFE",
          "LOYALL",
          "LOYALL",
          "SOUTH SHORE",
          "LIBERTY",
          "HODGENVILLE",
          "GREENUP",
          "LEBANON",
          "SOMERSET",
          "CLOVERPORT",
          "EMINENCE",
          "CADIZ",
          "FULTON",
          "MARTIN",
          "GRAND RIVERS",
          "SHEPHERDSVILLE",
          "FLEMING-NEON",
          "PRESTONSBURG",
          "HARRODSBURG",
          "HINDMAN",
          "LOUISA",
          "EDDYVILLE",
          "CLAY",
          "EDMONTON",
          "WARSAW",
          "TAYLORSVILLE",
          "OWENTON",
          "PERRYVILLE",
          "HARDINSBURG",
          "HAZEL",
          "PRINCETON",
          "WILMORE",
          "HICKMAN",
          "WHEELWRIGHT",
          "LOUISVILLE",
          "PROSPECT",
          "PROSPECT",
          "MANCHESTER",
          "STONE",
          "LOUISVILLE",
          "JEFFERSONTOWN",
          "LOUISVILLE",
          "NEW CASTLE",
          "NORTH MIDDLETOWN",
          "PHILPOT",
          "WURTLAND",
          "BOONEVILLE",
          "KEVIL",
          "MOUNT WASHINGTON",
          "MONTICELLO",
          "NEW HAVEN",
          "HILLVIEW",
          "HILLVIEW",
          "HILLVIEW",
          "STANTON",
          "BLOOMFIELD",
          "MCKEE",
          "HILLVIEW",
          "BOYD COUNTY",
          "LOUISVILLE",
          "BURKESVILLE",
          "WINCHESTER",
          "JENKINS",
          "LOUISVILLE",
          "CRESTWOOD",
          "FRENCHBURG",
          "LIVINGSTON",
          "LOUISVILLE",
          "ROBINSON CREEK",
          "PIPPA PASSES",
          "PROSPECT",
          "DRAFFENVILLE",
          "LOUISVILLE",
          "LOUISVILLE",
          "CRESTWOOD",
          "BRODHEAD",
          "PROSPECT",
          "RUSSELL",
          "BURLINGTON",
          "STAMPING GROUND",
          "SANDY HOOK",
          "FANCY FARM",
          "CAMPBELLSVILLE",
          "CRESTWOOD",
          "FORDSVILLE",
          "WHITESVILLE",
          "SYMSONIA",
          "DANVILLE",
          "VICCO",
          "CRESTWOOD",
          "JAMESTOWN",
          "GUTHRIE",
          "CRAB ORCHARD",
          "HOPKINSVILLE",
          "SALEM",
          "DRAKESBORO",
          "NORTONVILLE",
          "CROFTON",
          "ISLAND",
          "JEFFERSONVILLE",
          "BEDFORD",
          "CANEYVILLE",
          "MURRAY",
          "MIDDLESBORO",
          "EVARTS",
          "OWENSBORO",
          "FALMOUTH",
          "LA GRANGE",
          "LOUISVILLE",
          "INEZ",
          "BEREA",
          "SADIEVILLE",
          "SHARPSBURG",
          "MILTON",
          "WEST LIBERTY",
          "CLARKSON",
          "PARIS",
          "BRADFORDSVILLE",
          "HORSE CAVE",
          "DRY RIDGE",
          "SACRAMENTO",
          "HAWESVILLE",
          "IRVINGTON",
          "VERONA",
          "SHEPHERDSVILLE",
          "SCIENCE HILL",
          "GAMALIEL",
          "IRVINE",
          "PIKEVILLE",
          "SUMMERSVILLE",
          "STEARNS",
          "CORINTH",
          "MADISONVILLE",
          "META",
          "LOUISVILLE",
          "LEDBETTER",
          "ROBARDS",
          "NICHOLASVILLE",
          "MEANS",
          "BARDWELL",
          "TOLLESBORO",
          "LOUISVILLE",
          "LOVELY",
          "BUCKNER",
          "MILLSTONE",
          "RICHMOND",
          "VAN LEAR",
          "BROOKS",
          "BARDSTOWN",
          "LEBANON JUNCTION",
          "MOUNT OLIVET",
          "MOUNT STERLING",
          "FREEBURN",
          "SALYERSVILLE",
          "CAMPTON",
          "CARROLLTON",
          "ALEXANDRIA",
          "WAYLAND",
          "RICHMOND",
          "GARRISON",
          "BEAVER DAM",
          "CYNTHIANA",
          "GOSHEN",
          "FALMOUTH",
          "WHITESBURG",
          "OWINGSVILLE",
          "EASTERN",
          "RICHMOND",
          "PETERSBURG",
          "CLOSPLINT",
          "CHAVIES",
          "WARFIELD",
          "VEST",
          "BELFRY",
          "BETSY LAYNE",
          "WILLIAMSTOWN",
          "GRAND RIVERS",
          "CAMPTON",
          "HAZEL GREEN",
          "RICHMOND",
          "CRESTWOOD",
          "PRESTONSBURG",
          "MAYS LICK",
          "RAVENNA",
          "BROOKSVILLE",
          "FORT KNOX",
          "VANCEBURG",
          "BOWLING GREEN",
          "HAZARD",
          "RUSSELL",
          "EMINENCE",
          "RUSSELL",
          "RUSSELL",
          "RUSSELL",
          "GREENUP COUNTY",
          "WILLIAMSTOWN",
          "HENDERSON",
          "MADISONVILLE",
          "BOYD COUNTY",
          "HOPKINS COUNTY",
          "CALDWELL COUNTY",
          "ASHLAND",
          "HOPKINS COUNTY",
          "MEADE COUNTY",
          "WEBSTER COUNTY",
          "WEBSTER COUNTY",
          "CARROLLTON",
          "RUSSELL COUNTY",
          "CARROLLTON",
          "UNION COUNTY",
          "LAWRENCE COUNTY",
          "HOPKINS COUNTY",
          "LAUREL COUNTY",
          "MUHLENBERG COUNTY",
          "CARLISLE COUNTY",
          "CARLISLE COUNTY",
          "PIKE COUNTY",
          "BURNSIDE",
          "CAMPBELLSBURG",
          "RICHMOND",
          "NICHOLASVILLE",
          "LORETTO",
          "KNOX COUNTY",
          "EWING",
          "OHIO COUNTY",
          "OHIO COUNTY",
          "OHIO COUNTY",
          "LYON COUNTY",
          "MERCER COUNTY",
          "MAYSVILLE",
          "BURNSIDE",
          "CLAY CITY",
          "STANTON",
          "NELSON COUNTY",
          "BROWNSVILLE",
          "BROWNSVILLE",
          "LOUISVILLE",
          "WURTLAND",
          "GREENUP",
          "LOUISVILLE",
          "LOUISVILLE",
          "STANFORD",
          "TAYLORSVILLE",
          "CYNTHIANA",
          "CARLISLE",
          "TAYLORSVILLE",
          "ELIZABETHTOWN",
          "LOUISA",
          "MARSHALL COUNTY",
          "HORSE CAVE",
          "PADUCAH",
          "LOUISVILLE",
          "LOUISVILLE",
          "LOUISVILLE",
          "LOUISVILLE",
          "LOUISVILLE",
          "HOPKINSVILLE",
          "ERLANGER",
          "LOUISVILLE",
          "OWENSBORO",
          "GRAYSON",
          "GREENVILLE",
          "WINCHESTER",
          "PADUCAH",
          "HOPKINSVILLE",
          "STANTON",
          "FRANKFORT",
          "WEST LIBERTY",
          "PADUCAH",
          "ELIZABETHTOWN",
          "LEXINGTON",
          "WINCHESTER"
         ],
         "lat": [
          38.389141969466515,
          37.218245531407625,
          37.344055763894694,
          37.27382389187834,
          37.90647304126744,
          37.78825801228558,
          37.53522625480516,
          36.95630001693792,
          38.21738899136773,
          38.68642601108157,
          37.05793280387321,
          38.21189930000003,
          37.48810564120615,
          38.0571465202072,
          37.79742854315021,
          36.701208156126015,
          37.81672212837903,
          36.85853382027727,
          36.664092710871735,
          37.07772301975679,
          37.69358001541978,
          38.31416630116357,
          38.29935996503034,
          37.30161640000006,
          37.61787582171629,
          36.74279873582878,
          38.40568563529995,
          36.77024687476099,
          37.235161144521605,
          38.788253221564126,
          38.021686337438574,
          37.55863889985494,
          37.039303747154435,
          36.98361999214795,
          36.86447874582061,
          36.86523998475877,
          36.7520187380841,
          38.420686871094276,
          37.7930456959832,
          37.206300384216156,
          38.772894704147866,
          37.517233418233246,
          37.39296467977129,
          37.67220362328016,
          39.05890000940249,
          38.001593899377404,
          38.06180900803852,
          37.943496013965216,
          38.65359378318544,
          36.977144013000874,
          37.64246000332872,
          37.99712867508533,
          38.47729500000003,
          37.84789998915414,
          37.011068000929,
          38.23053801815516,
          38.322381342677225,
          36.80215052705839,
          37.09761999412329,
          36.892200041046465,
          36.892200041046465,
          38.21401688534366,
          38.54742999120961,
          37.4649529471267,
          36.839470903600464,
          37.195134123874894,
          36.80332320984512,
          37.304667554846816,
          37.24783248613761,
          37.16278370614996,
          36.76793739322941,
          36.848998876795775,
          36.96318327634491,
          38.129398782481175,
          36.65627872635207,
          37.10813410459511,
          36.78227554538557,
          37.5387021710744,
          37.35717615453976,
          38.288127783077435,
          36.7513010409756,
          36.992709998503656,
          37.81903448347805,
          37.85789746727776,
          38.38220998103833,
          38.649594969322706,
          37.93185182404539,
          36.72255890472643,
          37.49172999872441,
          37.04924595734144,
          36.97255104970246,
          37.03107149184025,
          37.14056506585985,
          37.7721260624685,
          36.65125443692666,
          37.54491672218559,
          38.2964796403992,
          36.937905250209575,
          36.844365775259746,
          36.844365775259746,
          38.72255800000005,
          37.37597213669401,
          37.574890350341704,
          38.579250000686955,
          37.56260542889013,
          37.045349984916555,
          37.834818278519975,
          38.35518797694615,
          36.86160868015007,
          36.514299035387296,
          37.58074350238099,
          37.032776313798415,
          37.98230800130251,
          37.171849181690874,
          37.68869790125151,
          37.81974564452557,
          37.32583791005102,
          38.119206992379944,
          37.0753600868712,
          37.4693805937859,
          36.987942960602595,
          38.772900224655544,
          38.02946738851428,
          38.53691500000008,
          37.663217800780664,
          37.7897600074251,
          36.503747940860066,
          37.07306979531666,
          37.85833998483528,
          36.577810719316226,
          37.33965969972074,
          37.30350002986542,
          37.0014444266675,
          38.06702699422232,
          37.17785305651598,
          37.58878760173169,
          38.09804401737546,
          37.87389040143904,
          38.25073400430881,
          38.4283800305108,
          38.11043318347083,
          37.7172216773663,
          38.55170541016454,
          37.47655650788258,
          37.08207005499027,
          38.03505336034435,
          36.79723519541611,
          37.695175709503935,
          38.07844601133779,
          38.07849629350355,
          38.06968965228454,
          37.85618137967016,
          37.92129972369788,
          37.43068857641705,
          38.08543862059846,
          38.40154885306593,
          38.47903998963491,
          36.78722878631195,
          38.031981105472674,
          37.288115216278776,
          38.281205994207966,
          38.36725396308495,
          37.98548398736067,
          37.272828992826135,
          37.40577470300008,
          37.38242279378216,
          37.340670995961254,
          37.37821100000008,
          36.85952000000003,
          37.36810002819081,
          37.400020033773046,
          38.32444990000005,
          37.399206700000036,
          37.20116005148793,
          38.53579735875259,
          39.044649705308046,
          38.30586255153452,
          38.08493131319695,
          36.801599256078944,
          37.350190162604605,
          38.35506960306865,
          37.63425314711385,
          37.633520242893674,
          36.908122709649604,
          37.62147754786843,
          37.214584374526844,
          38.32682500515452,
          36.997856017446594,
          36.64948068262019,
          37.463562169536125,
          36.81423714522426,
          37.261989181133806,
          37.26427096786101,
          37.184460279291805,
          37.051342037202694,
          37.44328092004915,
          37.990459985095285,
          38.588969990885346,
          37.42937489326489,
          36.62693668207748,
          36.66794907758407,
          36.86304282919954,
          37.76984301291864,
          38.675881986821025,
          38.40271002072967,
          38.08628500350113,
          37.860640020976135,
          37.64063837849277,
          38.354936986395586,
          38.23649054670896,
          38.72234013349386,
          37.92902393760499,
          37.490539484912304,
          38.19576262733666,
          37.49246860270195,
          37.17220637523166,
          38.75357808680104,
          37.390696467486244,
          37.93023001771897,
          37.874351191438414,
          38.828299519976845,
          38.06315002872756,
          37.17714323221087,
          36.63537441912664,
          38.102501010569966,
          37.5507100147897,
          37.30775748114816,
          36.69654840000004,
          38.529412817509275,
          37.31856073094687,
          37.50455958816834,
          38.11938601924078,
          37.04201166035042,
          37.647835789091395,
          37.84777834848736,
          37.94829004348642,
          36.89645000123254,
          38.52058780521921,
          38.22424698072683,
          37.83175003148231,
          38.193587990567835,
          37.167428463553954,
          37.64087263200879,
          37.753685729947605,
          38.05948929347362,
          37.78080579069505,
          37.82757164481905,
          38.47775734995941,
          38.101555180462874,
          37.572600351212586,
          37.76026163266446,
          37.7410173502874,
          38.638341966206546,
          38.95807816867942,
          37.4489899479497,
          37.85193998266567,
          38.607532400000025,
          37.41468760252775,
          38.39416001848605,
          38.41892099865663,
          38.69440222541363,
          37.11827070000004,
          38.11219034809703,
          37.5159106101646,
          37.80280756454749,
          39.01196965883641,
          36.90906644668475,
          37.35646473055526,
          37.88162579195188,
          37.399625222962726,
          37.62513747594586,
          37.55390500000004,
          38.63113987923049,
          37.032776313798415,
          37.699751856016256,
          38.11043318347083,
          37.74183645243678,
          38.328662988882826,
          37.87389040143904,
          38.52259001160161,
          37.701909992705055,
          38.649594969322706,
          37.89826284235597,
          38.598040048311475,
          36.99582999432265,
          37.27382389187834,
          38.53579735875259,
          38.35518797694615,
          38.53579735875259,
          38.53579735875259,
          38.53579735875259,
          38.51368998108137,
          38.64648644143978,
          37.81672212837903,
          37.32813979592318,
          38.436419981735014,
          37.4173504276065,
          37.20796018593747,
          38.41555998121183,
          37.237095361951354,
          37.93838823342713,
          37.6061099942802,
          37.51736998908099,
          37.350790057029016,
          37.09469361241859,
          37.13049060000003,
          37.711547371995515,
          38.05906356985975,
          37.17705998438274,
          37.150955372915575,
          37.23531355114222,
          36.78902500000004,
          36.869170339486715,
          37.667890027010756,
          36.98990998183838,
          38.523420000000044,
          37.16251425771197,
          37.481310035791864,
          37.5040885510836,
          36.8383011211224,
          37.46872334949683,
          37.4032091596636,
          37.440705714757705,
          37.44925235755389,
          37.04908005755817,
          37.76043998438885,
          37.35396708800005,
          37.15679002793357,
          37.85789746727776,
          37.23891004791433,
          37.92129972369788,
          37.205017238763666,
          37.205017238763666,
          38.114727986098615,
          38.514895055856506,
          38.579250000686955,
          38.08975954684737,
          38.072848980348965,
          37.52980001621404,
          38.03279707024628,
          38.38950001559664,
          38.34119817504978,
          38.02052756219523,
          37.74281515075355,
          38.119206992379944,
          37.039303747154435,
          37.159132357957645,
          37.09761999412329,
          38.11938601924078,
          38.11938601924078,
          38.13807498111299,
          38.11938601924078,
          38.22424698072683,
          36.8640099823773,
          39.05890000940249,
          38.11938601924078,
          37.76984301291864,
          38.334679868676325,
          37.2053591701192,
          38.031981105472674,
          37.07150005599088,
          36.8726762360197,
          37.85609977823137,
          38.21401688534366,
          37.92902393760499,
          37.09761999412329,
          37.64246000332872,
          38.061832980281594,
          38.031981105472674
         ],
         "legendgroup": "#FFFFFF",
         "lon": [
          -85.39104350035247,
          -87.17178041915112,
          -88.0634562924689,
          -83.18869932529432,
          -86.7636834039073,
          -87.14293002483572,
          -87.26600919456048,
          -84.09718001452143,
          -84.56402695950308,
          -83.78850736597292,
          -88.13778502616216,
          -85.22930009999999,
          -87.13795936396178,
          -84.7400761443119,
          -82.79216004561913,
          -85.70233752900145,
          -87.62037387617349,
          -86.88873059857659,
          -86.85801991580894,
          -88.96715020330917,
          -85.23377002460592,
          -84.06008171961042,
          -84.15176168721396,
          -82.35160379999996,
          -84.58333934006845,
          -87.2956926986234,
          -84.31818318140797,
          -88.29436728935067,
          -86.68555040654972,
          -84.37597089143304,
          -84.88961712387625,
          -83.7454171227304,
          -88.35359410347282,
          -85.95717001052442,
          -88.34612215372367,
          -86.706469993436,
          -88.6484328407018,
          -83.76073550463032,
          -85.46735247376283,
          -83.37571427232074,
          -84.01453555365488,
          -83.34932343788039,
          -87.77082726505445,
          -87.8276952150064,
          -84.61790298326774,
          -86.14858856921889,
          -84.52907903330824,
          -84.50002500996926,
          -83.37817909133813,
          -82.99944177511665,
          -85.90541997268117,
          -85.96048324242024,
          -82.64469499999996,
          -85.93537999593438,
          -86.45719596485476,
          -85.83491903070124,
          -85.54844445225021,
          -83.40581054964555,
          -88.61644999525345,
          -83.06219987713834,
          -83.06219987713834,
          -84.87376073477844,
          -82.71779996469515,
          -86.29095903558208,
          -86.9183217898191,
          -86.27306449616191,
          -87.14616032562546,
          -87.14524098918561,
          -85.50221978615005,
          -87.69690982881576,
          -83.7061047740002,
          -83.90102275456717,
          -82.90715698743126,
          -83.74754996899057,
          -85.17357415982997,
          -85.30308797100562,
          -88.14290779313711,
          -84.63917265641616,
          -84.33465648854755,
          -85.47027541049329,
          -86.20038107243973,
          -86.94395998816191,
          -86.00609319887229,
          -83.91833849628259,
          -82.62551998841833,
          -84.11004882396561,
          -86.92183962338632,
          -89.00006633829408,
          -82.54036999425868,
          -89.0443560731601,
          -82.9759001555388,
          -88.57510154416047,
          -88.4079717111015,
          -87.89669384461432,
          -88.74051419658804,
          -87.9665961285193,
          -83.18612674885763,
          -89.02036562986933,
          -83.35478535319974,
          -83.35478535319974,
          -82.96329499999996,
          -84.89683575918862,
          -85.7432856920741,
          -82.83989001197736,
          -85.26778437174333,
          -84.59701997442032,
          -86.6417712337658,
          -85.18756563360708,
          -87.8388675549414,
          -88.88001716260416,
          -82.74374245900549,
          -88.23186582935146,
          -85.72281872898412,
          -82.72386021777791,
          -82.77644718268522,
          -85.0177075232043,
          -82.99996776341958,
          -82.61522033528274,
          -88.09414298986933,
          -87.8142230087503,
          -85.62586089382536,
          -84.89763051369901,
          -85.35117822872508,
          -84.83638499999995,
          -84.93846246068964,
          -86.4647400129888,
          -88.3215371607794,
          -87.8931253676707,
          -84.65891999409483,
          -89.15411846392921,
          -82.72015683553447,
          -82.64922987793071,
          -86.4504584004825,
          -84.55827404025862,
          -83.76855812507483,
          -82.26892265254403,
          -85.64217498788712,
          -83.86065921842635,
          -85.5229750208198,
          -85.15989243578242,
          -84.14328707878175,
          -86.96669258028362,
          -82.7782709254754,
          -83.66060448203616,
          -88.88670987863406,
          -85.55630225850823,
          -84.92920800342257,
          -85.55812767091095,
          -85.66986991485801,
          -85.68375684932485,
          -85.69022457414306,
          -83.86544903628076,
          -85.32532382597557,
          -84.01288657316978,
          -85.66731865593471,
          -82.59984471037973,
          -82.63312002766557,
          -85.3691889127218,
          -84.20991780605861,
          -82.55406636104979,
          -85.61158498079124,
          -85.38197297171712,
          -83.55585509978062,
          -84.22171231953051,
          -82.24438880399998,
          -82.54011127446061,
          -82.86782047213171,
          -82.25414459999996,
          -88.35204999999996,
          -82.41269994639451,
          -82.43308993169715,
          -85.47834229999995,
          -84.42050999999998,
          -82.82633991112297,
          -82.69715269871668,
          -84.7276889501509,
          -84.71374987844086,
          -83.12623716668502,
          -88.79803943012924,
          -85.37505861219749,
          -85.4311074886882,
          -86.7201742788141,
          -86.87975116437406,
          -88.52371858228487,
          -84.73379985474305,
          -83.06615952598186,
          -85.43933402068882,
          -85.07202458883133,
          -87.20131102211491,
          -84.50092323054673,
          -87.52771641379996,
          -88.2646129679688,
          -86.99204175075438,
          -87.44435047800808,
          -87.47196273738489,
          -87.1580021711945,
          -83.85747996338526,
          -85.30721997158007,
          -86.50480162114587,
          -88.29473564359819,
          -83.68854757843464,
          -83.19806753141982,
          -87.07031298758011,
          -84.33639902823437,
          -85.46050402590097,
          -85.89734501480001,
          -82.52461113600253,
          -84.31221146627627,
          -85.40741497902545,
          -83.90048458088438,
          -85.36730151148595,
          -83.26313297084609,
          -86.21511333977845,
          -84.27304931804295,
          -85.15407027964201,
          -85.91105395698678,
          -84.61481540282044,
          -87.25866658433712,
          -86.77638998570684,
          -86.29399058067855,
          -84.67171357445645,
          -85.69911987786142,
          -84.63704112809555,
          -85.79139646927202,
          -85.73356597951313,
          -82.45795996042804,
          -85.52700723650598,
          -84.47945879999997,
          -84.57623447154148,
          -87.5498237518004,
          -82.52863106256851,
          -85.5938369713695,
          -88.46057324576213,
          -87.50940968243465,
          -84.61216847321367,
          -83.76326988626424,
          -89.0256000259079,
          -83.54855690138677,
          -85.4702579628072,
          -82.40458492301619,
          -85.68558897156528,
          -82.75266726382398,
          -84.31239284201133,
          -82.75734525590687,
          -85.70203717013989,
          -85.51055216297044,
          -85.73506816307915,
          -84.04591773482998,
          -83.91987823571147,
          -82.13342395054399,
          -82.9870394158045,
          -83.54926809223232,
          -85.1281665482823,
          -84.39066470937708,
          -82.81433461129026,
          -84.3640700375494,
          -83.16795719999999,
          -86.92647746881335,
          -84.30388000994171,
          -85.61060999781387,
          -84.33592705074571,
          -82.82302899999996,
          -83.77045660996562,
          -82.80632287330872,
          -84.18712911805254,
          -84.83434206503902,
          -83.0812242855996,
          -83.34942995012503,
          -82.4198284140652,
          -83.05301688453038,
          -82.27899767152454,
          -82.63289999999995,
          -84.61884144923098,
          -88.23186582935146,
          -83.33542767606019,
          -84.14328707878175,
          -84.15488774699422,
          -85.54041298364308,
          -83.86065921842635,
          -83.83672000087645,
          -83.918139964304,
          -84.11004882396561,
          -85.92223875077781,
          -83.27021993848972,
          -86.44248999955249,
          -83.18869932529432,
          -82.69715269871668,
          -85.18756563360708,
          -82.69715269871668,
          -82.69715269871668,
          -82.69715269871668,
          -82.6959500194974,
          -84.57002539141742,
          -87.62037387617349,
          -87.49770542339338,
          -82.69759002267271,
          -87.48195284165672,
          -88.05789825381727,
          -82.59850000152295,
          -87.47382446267547,
          -85.99250140819655,
          -87.53158999026361,
          -87.69064003959794,
          -82.69498995630768,
          -85.06289196659755,
          -83.07201349999997,
          -87.79350490488096,
          -82.58990638876352,
          -87.37994996243154,
          -84.1265567525843,
          -87.16287177264014,
          -89.01357999999999,
          -89.00944733817695,
          -82.27705988207695,
          -84.60164997009637,
          -85.20719999999994,
          -83.76732246085146,
          -82.83206994777176,
          -82.83973128814287,
          -83.82872564733975,
          -82.92299199103314,
          -86.8703460770406,
          -86.92570861287844,
          -87.03927133813337,
          -88.16688988738083,
          -84.84408000709679,
          -82.95401902099997,
          -82.73986993485124,
          -83.91833849628259,
          -82.77347994166122,
          -85.32532382597557,
          -86.2829674706169,
          -86.2829674706169,
          -85.78638898478187,
          -82.8032218783288,
          -82.83989001197736,
          -85.69931435596199,
          -85.8765269657022,
          -84.66144001328453,
          -85.23287609599352,
          -84.29790002494022,
          -84.03029606533786,
          -85.29218501775271,
          -85.7662368262142,
          -82.61522033528274,
          -88.35359410347282,
          -85.9201061265553,
          -88.61644999525345,
          -85.5938369713695,
          -85.5938369713695,
          -85.62965301127622,
          -85.5938369713695,
          -85.4702579628072,
          -87.48590995906196,
          -84.61790298326774,
          -85.5938369713695,
          -87.07031298758011,
          -82.94019290668108,
          -87.1789711366607,
          -84.20991780605861,
          -88.72046991657487,
          -87.50620875192281,
          -83.86553522030457,
          -84.87376073477844,
          -83.26313297084609,
          -88.61644999525345,
          -85.90541997268117,
          -84.52896897891954,
          -84.20991780605861
         ],
         "marker": {
          "color": "#636efa"
         },
         "mode": "markers",
         "name": "#FFFFFF",
         "showlegend": true,
         "subplot": "mapbox",
         "type": "scattermapbox"
        },
        {
         "hovertemplate": "<b>%{hovertext}</b><br><br>color=#1C8356<br>latitude=%{lat}<br>longitude=%{lon}<extra></extra>",
         "hovertext": [
          "GRAYSON",
          null
         ],
         "lat": [
          38.334679868676325,
          38.352076
         ],
         "legendgroup": "#1C8356",
         "lon": [
          -82.94019290668108,
          -82.912095
         ],
         "marker": {
          "color": "#EF553B"
         },
         "mode": "markers",
         "name": "#1C8356",
         "showlegend": true,
         "subplot": "mapbox",
         "type": "scattermapbox"
        },
        {
         "hovertemplate": "<b>%{hovertext}</b><br><br>color=#FE00FA<br>latitude=%{lat}<br>longitude=%{lon}<extra></extra>",
         "hovertext": [
          "LONDON",
          null
         ],
         "lat": [
          37.10628998331087,
          37.047545
         ],
         "legendgroup": "#FE00FA",
         "lon": [
          -84.06695998463172,
          -84.099337
         ],
         "marker": {
          "color": "#00cc96"
         },
         "mode": "markers",
         "name": "#FE00FA",
         "showlegend": true,
         "subplot": "mapbox",
         "type": "scattermapbox"
        },
        {
         "hovertemplate": "<b>%{hovertext}</b><br><br>color=#325A9B<br>latitude=%{lat}<br>longitude=%{lon}<extra></extra>",
         "hovertext": [
          "PADUCAH",
          null
         ],
         "lat": [
          37.09699001028062,
          37.050921
         ],
         "legendgroup": "#325A9B",
         "lon": [
          -88.61688996135112,
          -88.652915
         ],
         "marker": {
          "color": "#ab63fa"
         },
         "mode": "markers",
         "name": "#325A9B",
         "showlegend": true,
         "subplot": "mapbox",
         "type": "scattermapbox"
        },
        {
         "hovertemplate": "<b>%{hovertext}</b><br><br>color=#B00068<br>latitude=%{lat}<br>longitude=%{lon}<extra></extra>",
         "hovertext": [
          "FRANKLIN",
          null
         ],
         "lat": [
          36.743550005715136,
          36.643445
         ],
         "legendgroup": "#B00068",
         "lon": [
          -86.5570199892656,
          -86.56869
         ],
         "marker": {
          "color": "#FFA15A"
         },
         "mode": "markers",
         "name": "#B00068",
         "showlegend": true,
         "subplot": "mapbox",
         "type": "scattermapbox"
        },
        {
         "hovertemplate": "<b>%{hovertext}</b><br><br>color=#FBE426<br>latitude=%{lat}<br>longitude=%{lon}<extra></extra>",
         "hovertext": [
          "WILLIAMSBURG",
          null
         ],
         "lat": [
          36.74873353950468,
          36.616147
         ],
         "legendgroup": "#FBE426",
         "lon": [
          -84.16783394214922,
          -84.105513
         ],
         "marker": {
          "color": "#19d3f3"
         },
         "mode": "markers",
         "name": "#FBE426",
         "showlegend": true,
         "subplot": "mapbox",
         "type": "scattermapbox"
        },
        {
         "hovertemplate": "<b>%{hovertext}</b><br><br>color=#000000<br>latitude=%{lat}<br>longitude=%{lon}<extra></extra>",
         "hovertext": [
          "MIDWAY",
          null
         ],
         "lat": [
          38.15397386068471,
          38.170222
         ],
         "legendgroup": "#000000",
         "lon": [
          -84.66938547090352,
          -84.766152
         ],
         "marker": {
          "color": "#FF6692"
         },
         "mode": "markers",
         "name": "#000000",
         "showlegend": true,
         "subplot": "mapbox",
         "type": "scattermapbox"
        },
        {
         "hovertemplate": "<b>%{hovertext}</b><br><br>color=#1CBE4F<br>latitude=%{lat}<br>longitude=%{lon}<extra></extra>",
         "hovertext": [
          "MUNFORDVILLE",
          null
         ],
         "lat": [
          37.26886866141272,
          37.238955
         ],
         "legendgroup": "#1CBE4F",
         "lon": [
          -85.8879147544585,
          -85.929602
         ],
         "marker": {
          "color": "#B6E880"
         },
         "mode": "markers",
         "name": "#1CBE4F",
         "showlegend": true,
         "subplot": "mapbox",
         "type": "scattermapbox"
        },
        {
         "hovertemplate": "<b>%{hovertext}</b><br><br>color=#90AD1C<br>latitude=%{lat}<br>longitude=%{lon}<extra></extra>",
         "hovertext": [
          "CRESTWOOD",
          null
         ],
         "lat": [
          38.32846299667307,
          38.339607
         ],
         "legendgroup": "#90AD1C",
         "lon": [
          -85.52300502803317,
          -85.517966
         ],
         "marker": {
          "color": "#FF97FF"
         },
         "mode": "markers",
         "name": "#90AD1C",
         "showlegend": true,
         "subplot": "mapbox",
         "type": "scattermapbox"
        },
        {
         "hovertemplate": "<b>%{hovertext}</b><br><br>color=#C4451C<br>latitude=%{lat}<br>longitude=%{lon}<extra></extra>",
         "hovertext": [
          "WALTON",
          null
         ],
         "lat": [
          38.8567094467012,
          38.818981
         ],
         "legendgroup": "#C4451C",
         "lon": [
          -84.63238170161182,
          -84.60123
         ],
         "marker": {
          "color": "#FECB52"
         },
         "mode": "markers",
         "name": "#C4451C",
         "showlegend": true,
         "subplot": "mapbox",
         "type": "scattermapbox"
        },
        {
         "hovertemplate": "<b>%{hovertext}</b><br><br>color=#2ED9FF<br>latitude=%{lat}<br>longitude=%{lon}<extra></extra>",
         "hovertext": [
          "MOREHEAD",
          null
         ],
         "lat": [
          38.151810591080604,
          38.230828
         ],
         "legendgroup": "#2ED9FF",
         "lon": [
          -83.5138345948902,
          -83.443383
         ],
         "marker": {
          "color": "#636efa"
         },
         "mode": "markers",
         "name": "#2ED9FF",
         "showlegend": true,
         "subplot": "mapbox",
         "type": "scattermapbox"
        },
        {
         "hovertemplate": "<b>%{hovertext}</b><br><br>color=#FC1CBF<br>latitude=%{lat}<br>longitude=%{lon}<extra></extra>",
         "hovertext": [
          "SIMPSONVILLE",
          null
         ],
         "lat": [
          38.21996093188385,
          38.203385
         ],
         "legendgroup": "#FC1CBF",
         "lon": [
          -85.32777636838601,
          -85.329298
         ],
         "marker": {
          "color": "#EF553B"
         },
         "mode": "markers",
         "name": "#FC1CBF",
         "showlegend": true,
         "subplot": "mapbox",
         "type": "scattermapbox"
        },
        {
         "hovertemplate": "<b>%{hovertext}</b><br><br>color=#C075A6<br>latitude=%{lat}<br>longitude=%{lon}<extra></extra>",
         "hovertext": [
          "GEORGETOWN",
          null
         ],
         "lat": [
          38.266683005852,
          38.249915
         ],
         "legendgroup": "#C075A6",
         "lon": [
          -84.52722001100295,
          -84.548436
         ],
         "marker": {
          "color": "#00cc96"
         },
         "mode": "markers",
         "name": "#C075A6",
         "showlegend": true,
         "subplot": "mapbox",
         "type": "scattermapbox"
        },
        {
         "hovertemplate": "<b>%{hovertext}</b><br><br>color=#16FF32<br>latitude=%{lat}<br>longitude=%{lon}<extra></extra>",
         "hovertext": [
          "OAK GROVE",
          null
         ],
         "lat": [
          36.65151000332624,
          36.64963
         ],
         "legendgroup": "#16FF32",
         "lon": [
          -87.38854996272761,
          -87.351527
         ],
         "marker": {
          "color": "#ab63fa"
         },
         "mode": "markers",
         "name": "#16FF32",
         "showlegend": true,
         "subplot": "mapbox",
         "type": "scattermapbox"
        },
        {
         "hovertemplate": "<b>%{hovertext}</b><br><br>color=#F6222E<br>latitude=%{lat}<br>longitude=%{lon}<extra></extra>",
         "hovertext": [
          "STANTON",
          null
         ],
         "lat": [
          37.81939058885522,
          37.796204
         ],
         "legendgroup": "#F6222E",
         "lon": [
          -83.72350496454028,
          -83.704852
         ],
         "marker": {
          "color": "#FFA15A"
         },
         "mode": "markers",
         "name": "#F6222E",
         "showlegend": true,
         "subplot": "mapbox",
         "type": "scattermapbox"
        },
        {
         "hovertemplate": "<b>%{hovertext}</b><br><br>color=#F7E1A0<br>latitude=%{lat}<br>longitude=%{lon}<extra></extra>",
         "hovertext": [
          "WINCHESTER",
          null
         ],
         "lat": [
          37.99582000000004,
          38.020815
         ],
         "legendgroup": "#F7E1A0",
         "lon": [
          -84.17573999999996,
          -84.140675
         ],
         "marker": {
          "color": "#19d3f3"
         },
         "mode": "markers",
         "name": "#F7E1A0",
         "showlegend": true,
         "subplot": "mapbox",
         "type": "scattermapbox"
        },
        {
         "hovertemplate": "<b>%{hovertext}</b><br><br>color=#3283FE<br>latitude=%{lat}<br>longitude=%{lon}<extra></extra>",
         "hovertext": [
          "FLORENCE",
          null
         ],
         "lat": [
          38.988211019424824,
          38.938702
         ],
         "legendgroup": "#3283FE",
         "lon": [
          -84.63583698712095,
          -84.633831
         ],
         "marker": {
          "color": "#FF6692"
         },
         "mode": "markers",
         "name": "#3283FE",
         "showlegend": true,
         "subplot": "mapbox",
         "type": "scattermapbox"
        },
        {
         "hovertemplate": "<b>%{hovertext}</b><br><br>color=#FEAF16<br>latitude=%{lat}<br>longitude=%{lon}<extra></extra>",
         "hovertext": [
          "HARTFORD",
          null
         ],
         "lat": [
          37.37138678612162,
          37.376437
         ],
         "legendgroup": "#FEAF16",
         "lon": [
          -86.83362495137403,
          -86.827028
         ],
         "marker": {
          "color": "#B6E880"
         },
         "mode": "markers",
         "name": "#FEAF16",
         "showlegend": true,
         "subplot": "mapbox",
         "type": "scattermapbox"
        },
        {
         "hovertemplate": "<b>%{hovertext}</b><br><br>color=#782AB6<br>latitude=%{lat}<br>longitude=%{lon}<extra></extra>",
         "hovertext": [
          "SHEPHERDSVILLE",
          null
         ],
         "lat": [
          37.941130012246376,
          37.946386
         ],
         "legendgroup": "#782AB6",
         "lon": [
          -85.6994099755303,
          -85.690495
         ],
         "marker": {
          "color": "#FF97FF"
         },
         "mode": "markers",
         "name": "#782AB6",
         "showlegend": true,
         "subplot": "mapbox",
         "type": "scattermapbox"
        },
        {
         "hovertemplate": "<b>%{hovertext}</b><br><br>color=#AA0DFE<br>latitude=%{lat}<br>longitude=%{lon}<extra></extra>",
         "hovertext": [
          null
         ],
         "lat": [
          38.937132
         ],
         "legendgroup": "#AA0DFE",
         "lon": [
          -84.630865
         ],
         "marker": {
          "color": "#FECB52"
         },
         "mode": "markers",
         "name": "#AA0DFE",
         "showlegend": true,
         "subplot": "mapbox",
         "type": "scattermapbox"
        },
        {
         "hovertemplate": "<b>%{hovertext}</b><br><br>color=#85660D<br>latitude=%{lat}<br>longitude=%{lon}<extra></extra>",
         "hovertext": [
          null
         ],
         "lat": [
          38.864814
         ],
         "legendgroup": "#85660D",
         "lon": [
          -84.647903
         ],
         "marker": {
          "color": "#636efa"
         },
         "mode": "markers",
         "name": "#85660D",
         "showlegend": true,
         "subplot": "mapbox",
         "type": "scattermapbox"
        },
        {
         "hovertemplate": "<b>%{hovertext}</b><br><br>color=#565656<br>latitude=%{lat}<br>longitude=%{lon}<extra></extra>",
         "hovertext": [
          null
         ],
         "lat": [
          38.35642
         ],
         "legendgroup": "#565656",
         "lon": [
          -82.898557
         ],
         "marker": {
          "color": "#EF553B"
         },
         "mode": "markers",
         "name": "#565656",
         "showlegend": true,
         "subplot": "mapbox",
         "type": "scattermapbox"
        },
        {
         "hovertemplate": "<b>%{hovertext}</b><br><br>color=#E2E2E2<br>latitude=%{lat}<br>longitude=%{lon}<extra></extra>",
         "hovertext": [
          null
         ],
         "lat": [
          37.238489
         ],
         "legendgroup": "#E2E2E2",
         "lon": [
          -85.927053
         ],
         "marker": {
          "color": "#00cc96"
         },
         "mode": "markers",
         "name": "#E2E2E2",
         "showlegend": true,
         "subplot": "mapbox",
         "type": "scattermapbox"
        },
        {
         "hovertemplate": "<b>%{hovertext}</b><br><br>color=#DEA0FD<br>latitude=%{lat}<br>longitude=%{lon}<extra></extra>",
         "hovertext": [
          null
         ],
         "lat": [
          37.042895
         ],
         "legendgroup": "#DEA0FD",
         "lon": [
          -84.097301
         ],
         "marker": {
          "color": "#ab63fa"
         },
         "mode": "markers",
         "name": "#DEA0FD",
         "showlegend": true,
         "subplot": "mapbox",
         "type": "scattermapbox"
        },
        {
         "hovertemplate": "<b>%{hovertext}</b><br><br>color=#F8A19F<br>latitude=%{lat}<br>longitude=%{lon}<extra></extra>",
         "hovertext": [
          null
         ],
         "lat": [
          38.338016
         ],
         "legendgroup": "#F8A19F",
         "lon": [
          -85.516005
         ],
         "marker": {
          "color": "#FFA15A"
         },
         "mode": "markers",
         "name": "#F8A19F",
         "showlegend": true,
         "subplot": "mapbox",
         "type": "scattermapbox"
        },
        {
         "hovertemplate": "<b>%{hovertext}</b><br><br>color=#1CFFCE<br>latitude=%{lat}<br>longitude=%{lon}<extra></extra>",
         "hovertext": [
          null
         ],
         "lat": [
          38.236439
         ],
         "legendgroup": "#1CFFCE",
         "lon": [
          -83.438447
         ],
         "marker": {
          "color": "#19d3f3"
         },
         "mode": "markers",
         "name": "#1CFFCE",
         "showlegend": true,
         "subplot": "mapbox",
         "type": "scattermapbox"
        },
        {
         "hovertemplate": "<b>%{hovertext}</b><br><br>color=#B10DA1<br>latitude=%{lat}<br>longitude=%{lon}<extra></extra>",
         "hovertext": [
          null
         ],
         "lat": [
          38.247873
         ],
         "legendgroup": "#B10DA1",
         "lon": [
          -84.545895
         ],
         "marker": {
          "color": "#FF6692"
         },
         "mode": "markers",
         "name": "#B10DA1",
         "showlegend": true,
         "subplot": "mapbox",
         "type": "scattermapbox"
        },
        {
         "hovertemplate": "<b>%{hovertext}</b><br><br>color=#FA0087<br>latitude=%{lat}<br>longitude=%{lon}<extra></extra>",
         "hovertext": [
          null
         ],
         "lat": [
          38.168718
         ],
         "legendgroup": "#FA0087",
         "lon": [
          -84.766075
         ],
         "marker": {
          "color": "#B6E880"
         },
         "mode": "markers",
         "name": "#FA0087",
         "showlegend": true,
         "subplot": "mapbox",
         "type": "scattermapbox"
        }
       ],
       "layout": {
        "height": 800,
        "legend": {
         "title": {
          "text": "color"
         },
         "tracegroupgap": 0
        },
        "mapbox": {
         "center": {
          "lat": 37.692978920641835,
          "lon": -85.14595763669689
         },
         "domain": {
          "x": [
           0,
           1
          ],
          "y": [
           0,
           1
          ]
         },
         "style": "open-street-map",
         "zoom": 5
        },
        "margin": {
         "b": 0,
         "l": 0,
         "r": 0,
         "t": 0
        },
        "template": {
         "data": {
          "bar": [
           {
            "error_x": {
             "color": "#2a3f5f"
            },
            "error_y": {
             "color": "#2a3f5f"
            },
            "marker": {
             "line": {
              "color": "#E5ECF6",
              "width": 0.5
             }
            },
            "type": "bar"
           }
          ],
          "barpolar": [
           {
            "marker": {
             "line": {
              "color": "#E5ECF6",
              "width": 0.5
             }
            },
            "type": "barpolar"
           }
          ],
          "carpet": [
           {
            "aaxis": {
             "endlinecolor": "#2a3f5f",
             "gridcolor": "white",
             "linecolor": "white",
             "minorgridcolor": "white",
             "startlinecolor": "#2a3f5f"
            },
            "baxis": {
             "endlinecolor": "#2a3f5f",
             "gridcolor": "white",
             "linecolor": "white",
             "minorgridcolor": "white",
             "startlinecolor": "#2a3f5f"
            },
            "type": "carpet"
           }
          ],
          "choropleth": [
           {
            "colorbar": {
             "outlinewidth": 0,
             "ticks": ""
            },
            "type": "choropleth"
           }
          ],
          "contour": [
           {
            "colorbar": {
             "outlinewidth": 0,
             "ticks": ""
            },
            "colorscale": [
             [
              0,
              "#0d0887"
             ],
             [
              0.1111111111111111,
              "#46039f"
             ],
             [
              0.2222222222222222,
              "#7201a8"
             ],
             [
              0.3333333333333333,
              "#9c179e"
             ],
             [
              0.4444444444444444,
              "#bd3786"
             ],
             [
              0.5555555555555556,
              "#d8576b"
             ],
             [
              0.6666666666666666,
              "#ed7953"
             ],
             [
              0.7777777777777778,
              "#fb9f3a"
             ],
             [
              0.8888888888888888,
              "#fdca26"
             ],
             [
              1,
              "#f0f921"
             ]
            ],
            "type": "contour"
           }
          ],
          "contourcarpet": [
           {
            "colorbar": {
             "outlinewidth": 0,
             "ticks": ""
            },
            "type": "contourcarpet"
           }
          ],
          "heatmap": [
           {
            "colorbar": {
             "outlinewidth": 0,
             "ticks": ""
            },
            "colorscale": [
             [
              0,
              "#0d0887"
             ],
             [
              0.1111111111111111,
              "#46039f"
             ],
             [
              0.2222222222222222,
              "#7201a8"
             ],
             [
              0.3333333333333333,
              "#9c179e"
             ],
             [
              0.4444444444444444,
              "#bd3786"
             ],
             [
              0.5555555555555556,
              "#d8576b"
             ],
             [
              0.6666666666666666,
              "#ed7953"
             ],
             [
              0.7777777777777778,
              "#fb9f3a"
             ],
             [
              0.8888888888888888,
              "#fdca26"
             ],
             [
              1,
              "#f0f921"
             ]
            ],
            "type": "heatmap"
           }
          ],
          "heatmapgl": [
           {
            "colorbar": {
             "outlinewidth": 0,
             "ticks": ""
            },
            "colorscale": [
             [
              0,
              "#0d0887"
             ],
             [
              0.1111111111111111,
              "#46039f"
             ],
             [
              0.2222222222222222,
              "#7201a8"
             ],
             [
              0.3333333333333333,
              "#9c179e"
             ],
             [
              0.4444444444444444,
              "#bd3786"
             ],
             [
              0.5555555555555556,
              "#d8576b"
             ],
             [
              0.6666666666666666,
              "#ed7953"
             ],
             [
              0.7777777777777778,
              "#fb9f3a"
             ],
             [
              0.8888888888888888,
              "#fdca26"
             ],
             [
              1,
              "#f0f921"
             ]
            ],
            "type": "heatmapgl"
           }
          ],
          "histogram": [
           {
            "marker": {
             "colorbar": {
              "outlinewidth": 0,
              "ticks": ""
             }
            },
            "type": "histogram"
           }
          ],
          "histogram2d": [
           {
            "colorbar": {
             "outlinewidth": 0,
             "ticks": ""
            },
            "colorscale": [
             [
              0,
              "#0d0887"
             ],
             [
              0.1111111111111111,
              "#46039f"
             ],
             [
              0.2222222222222222,
              "#7201a8"
             ],
             [
              0.3333333333333333,
              "#9c179e"
             ],
             [
              0.4444444444444444,
              "#bd3786"
             ],
             [
              0.5555555555555556,
              "#d8576b"
             ],
             [
              0.6666666666666666,
              "#ed7953"
             ],
             [
              0.7777777777777778,
              "#fb9f3a"
             ],
             [
              0.8888888888888888,
              "#fdca26"
             ],
             [
              1,
              "#f0f921"
             ]
            ],
            "type": "histogram2d"
           }
          ],
          "histogram2dcontour": [
           {
            "colorbar": {
             "outlinewidth": 0,
             "ticks": ""
            },
            "colorscale": [
             [
              0,
              "#0d0887"
             ],
             [
              0.1111111111111111,
              "#46039f"
             ],
             [
              0.2222222222222222,
              "#7201a8"
             ],
             [
              0.3333333333333333,
              "#9c179e"
             ],
             [
              0.4444444444444444,
              "#bd3786"
             ],
             [
              0.5555555555555556,
              "#d8576b"
             ],
             [
              0.6666666666666666,
              "#ed7953"
             ],
             [
              0.7777777777777778,
              "#fb9f3a"
             ],
             [
              0.8888888888888888,
              "#fdca26"
             ],
             [
              1,
              "#f0f921"
             ]
            ],
            "type": "histogram2dcontour"
           }
          ],
          "mesh3d": [
           {
            "colorbar": {
             "outlinewidth": 0,
             "ticks": ""
            },
            "type": "mesh3d"
           }
          ],
          "parcoords": [
           {
            "line": {
             "colorbar": {
              "outlinewidth": 0,
              "ticks": ""
             }
            },
            "type": "parcoords"
           }
          ],
          "pie": [
           {
            "automargin": true,
            "type": "pie"
           }
          ],
          "scatter": [
           {
            "marker": {
             "colorbar": {
              "outlinewidth": 0,
              "ticks": ""
             }
            },
            "type": "scatter"
           }
          ],
          "scatter3d": [
           {
            "line": {
             "colorbar": {
              "outlinewidth": 0,
              "ticks": ""
             }
            },
            "marker": {
             "colorbar": {
              "outlinewidth": 0,
              "ticks": ""
             }
            },
            "type": "scatter3d"
           }
          ],
          "scattercarpet": [
           {
            "marker": {
             "colorbar": {
              "outlinewidth": 0,
              "ticks": ""
             }
            },
            "type": "scattercarpet"
           }
          ],
          "scattergeo": [
           {
            "marker": {
             "colorbar": {
              "outlinewidth": 0,
              "ticks": ""
             }
            },
            "type": "scattergeo"
           }
          ],
          "scattergl": [
           {
            "marker": {
             "colorbar": {
              "outlinewidth": 0,
              "ticks": ""
             }
            },
            "type": "scattergl"
           }
          ],
          "scattermapbox": [
           {
            "marker": {
             "colorbar": {
              "outlinewidth": 0,
              "ticks": ""
             }
            },
            "type": "scattermapbox"
           }
          ],
          "scatterpolar": [
           {
            "marker": {
             "colorbar": {
              "outlinewidth": 0,
              "ticks": ""
             }
            },
            "type": "scatterpolar"
           }
          ],
          "scatterpolargl": [
           {
            "marker": {
             "colorbar": {
              "outlinewidth": 0,
              "ticks": ""
             }
            },
            "type": "scatterpolargl"
           }
          ],
          "scatterternary": [
           {
            "marker": {
             "colorbar": {
              "outlinewidth": 0,
              "ticks": ""
             }
            },
            "type": "scatterternary"
           }
          ],
          "surface": [
           {
            "colorbar": {
             "outlinewidth": 0,
             "ticks": ""
            },
            "colorscale": [
             [
              0,
              "#0d0887"
             ],
             [
              0.1111111111111111,
              "#46039f"
             ],
             [
              0.2222222222222222,
              "#7201a8"
             ],
             [
              0.3333333333333333,
              "#9c179e"
             ],
             [
              0.4444444444444444,
              "#bd3786"
             ],
             [
              0.5555555555555556,
              "#d8576b"
             ],
             [
              0.6666666666666666,
              "#ed7953"
             ],
             [
              0.7777777777777778,
              "#fb9f3a"
             ],
             [
              0.8888888888888888,
              "#fdca26"
             ],
             [
              1,
              "#f0f921"
             ]
            ],
            "type": "surface"
           }
          ],
          "table": [
           {
            "cells": {
             "fill": {
              "color": "#EBF0F8"
             },
             "line": {
              "color": "white"
             }
            },
            "header": {
             "fill": {
              "color": "#C8D4E3"
             },
             "line": {
              "color": "white"
             }
            },
            "type": "table"
           }
          ]
         },
         "layout": {
          "annotationdefaults": {
           "arrowcolor": "#2a3f5f",
           "arrowhead": 0,
           "arrowwidth": 1
          },
          "autotypenumbers": "strict",
          "coloraxis": {
           "colorbar": {
            "outlinewidth": 0,
            "ticks": ""
           }
          },
          "colorscale": {
           "diverging": [
            [
             0,
             "#8e0152"
            ],
            [
             0.1,
             "#c51b7d"
            ],
            [
             0.2,
             "#de77ae"
            ],
            [
             0.3,
             "#f1b6da"
            ],
            [
             0.4,
             "#fde0ef"
            ],
            [
             0.5,
             "#f7f7f7"
            ],
            [
             0.6,
             "#e6f5d0"
            ],
            [
             0.7,
             "#b8e186"
            ],
            [
             0.8,
             "#7fbc41"
            ],
            [
             0.9,
             "#4d9221"
            ],
            [
             1,
             "#276419"
            ]
           ],
           "sequential": [
            [
             0,
             "#0d0887"
            ],
            [
             0.1111111111111111,
             "#46039f"
            ],
            [
             0.2222222222222222,
             "#7201a8"
            ],
            [
             0.3333333333333333,
             "#9c179e"
            ],
            [
             0.4444444444444444,
             "#bd3786"
            ],
            [
             0.5555555555555556,
             "#d8576b"
            ],
            [
             0.6666666666666666,
             "#ed7953"
            ],
            [
             0.7777777777777778,
             "#fb9f3a"
            ],
            [
             0.8888888888888888,
             "#fdca26"
            ],
            [
             1,
             "#f0f921"
            ]
           ],
           "sequentialminus": [
            [
             0,
             "#0d0887"
            ],
            [
             0.1111111111111111,
             "#46039f"
            ],
            [
             0.2222222222222222,
             "#7201a8"
            ],
            [
             0.3333333333333333,
             "#9c179e"
            ],
            [
             0.4444444444444444,
             "#bd3786"
            ],
            [
             0.5555555555555556,
             "#d8576b"
            ],
            [
             0.6666666666666666,
             "#ed7953"
            ],
            [
             0.7777777777777778,
             "#fb9f3a"
            ],
            [
             0.8888888888888888,
             "#fdca26"
            ],
            [
             1,
             "#f0f921"
            ]
           ]
          },
          "colorway": [
           "#636efa",
           "#EF553B",
           "#00cc96",
           "#ab63fa",
           "#FFA15A",
           "#19d3f3",
           "#FF6692",
           "#B6E880",
           "#FF97FF",
           "#FECB52"
          ],
          "font": {
           "color": "#2a3f5f"
          },
          "geo": {
           "bgcolor": "white",
           "lakecolor": "white",
           "landcolor": "#E5ECF6",
           "showlakes": true,
           "showland": true,
           "subunitcolor": "white"
          },
          "hoverlabel": {
           "align": "left"
          },
          "hovermode": "closest",
          "mapbox": {
           "style": "light"
          },
          "paper_bgcolor": "white",
          "plot_bgcolor": "#E5ECF6",
          "polar": {
           "angularaxis": {
            "gridcolor": "white",
            "linecolor": "white",
            "ticks": ""
           },
           "bgcolor": "#E5ECF6",
           "radialaxis": {
            "gridcolor": "white",
            "linecolor": "white",
            "ticks": ""
           }
          },
          "scene": {
           "xaxis": {
            "backgroundcolor": "#E5ECF6",
            "gridcolor": "white",
            "gridwidth": 2,
            "linecolor": "white",
            "showbackground": true,
            "ticks": "",
            "zerolinecolor": "white"
           },
           "yaxis": {
            "backgroundcolor": "#E5ECF6",
            "gridcolor": "white",
            "gridwidth": 2,
            "linecolor": "white",
            "showbackground": true,
            "ticks": "",
            "zerolinecolor": "white"
           },
           "zaxis": {
            "backgroundcolor": "#E5ECF6",
            "gridcolor": "white",
            "gridwidth": 2,
            "linecolor": "white",
            "showbackground": true,
            "ticks": "",
            "zerolinecolor": "white"
           }
          },
          "shapedefaults": {
           "line": {
            "color": "#2a3f5f"
           }
          },
          "ternary": {
           "aaxis": {
            "gridcolor": "white",
            "linecolor": "white",
            "ticks": ""
           },
           "baxis": {
            "gridcolor": "white",
            "linecolor": "white",
            "ticks": ""
           },
           "bgcolor": "#E5ECF6",
           "caxis": {
            "gridcolor": "white",
            "linecolor": "white",
            "ticks": ""
           }
          },
          "title": {
           "x": 0.05
          },
          "xaxis": {
           "automargin": true,
           "gridcolor": "white",
           "linecolor": "white",
           "ticks": "",
           "title": {
            "standoff": 15
           },
           "zerolinecolor": "white",
           "zerolinewidth": 2
          },
          "yaxis": {
           "automargin": true,
           "gridcolor": "white",
           "linecolor": "white",
           "ticks": "",
           "title": {
            "standoff": 15
           },
           "zerolinecolor": "white",
           "zerolinewidth": 2
          }
         }
        }
       }
      },
      "text/html": [
       "<div>                            <div id=\"42e3d64e-421f-4ac6-aef1-5a0c4c6772bc\" class=\"plotly-graph-div\" style=\"height:800px; width:100%;\"></div>            <script type=\"text/javascript\">                require([\"plotly\"], function(Plotly) {                    window.PLOTLYENV=window.PLOTLYENV || {};                                    if (document.getElementById(\"42e3d64e-421f-4ac6-aef1-5a0c4c6772bc\")) {                    Plotly.newPlot(                        \"42e3d64e-421f-4ac6-aef1-5a0c4c6772bc\",                        [{\"hovertemplate\": \"<b>%{hovertext}</b><br><br>color=#FFFFFF<br>latitude=%{lat}<br>longitude=%{lon}<extra></extra>\", \"hovertext\": [\"LA GRANGE\", \"GREENVILLE\", \"MARION\", \"HAZARD\", \"HAWESVILLE\", \"OWENSBORO\", \"CALHOUN\", \"CITY OF CORBIN\", \"GEORGETOWN\", \"MAYSVILLE\", \"KUTTAWA\", \"SHELBYVILLE\", \"LIVERMORE\", \"VERSAILLES\", \"PAINTSVILLE\", \"TOMPKINSVILLE\", \"HENDERSON\", \"RUSSELLVILLE\", \"ADAIRVILLE\", \"LA CENTER\", \"SPRINGFIELD\", \"CARLISLE\", \"MILLERSBURG\", \"ELKHORN CITY\", \"LANCASTER\", \"TRENTON\", \"WILLIAMSTOWN\", \"HARDIN\", \"MORGANTOWN\", \"BUTLER\", \"LAWRENCEBURG\", \"BEATTYVILLE\", \"CALVERT CITY\", \"GLASGOW\", \"BENTON\", \"AUBURN\", \"MAYFIELD\", \"FLEMINGSBURG\", \"BARDSTOWN\", \"HYDEN\", \"AUGUSTA\", \"JACKSON\", \"PROVIDENCE\", \"MORGANFIELD\", \"ERLANGER\", \"BRANDENBURG\", \"LEXINGTON\", \"NICHOLASVILLE\", \"VANCEBURG\", \"CUMBERLAND\", \"ELIZABETHTOWN\", \"WEST POINT\", \"ASHLAND\", \"RADCLIFF\", \"BOWLING GREEN\", \"LOUISVILLE\", \"LOUISVILLE\", \"LOUISVILLE\", \"PADUCAH\", \"RICHMOND\", \"RICHMOND\", \"FRANKFORT\", \"WORTHINGTON\", \"LEITCHFIELD\", \"HOPKINSVILLE\", \"BROWNSVILLE\", \"ELKTON\", \"CENTRAL CITY\", \"GREENSBURG\", \"DAWSON SPRINGS\", \"PINEVILLE\", \"BARBOURVILLE\", \"LYNCH\", \"OWINGSVILLE\", \"ALBANY\", \"COLUMBIA\", \"AURORA\", \"STANFORD\", \"MOUNT VERNON\", \"CRESTWOOD\", \"SCOTTSVILLE\", \"LEWISBURG\", \"VINE GROVE\", \"CLAY CITY\", \"JEFFERSONTOWN\", \"BROOKSVILLE\", \"LEWISPORT\", \"CLINTON\", \"PIKEVILLE\", \"BARLOW\", \"BENHAM\", \"PADUCAH\", \"SMITHLAND\", \"UNIONTOWN\", \"WINGO\", \"STURGIS\", \"OLIVE HILL\", \"WICKLIFFE\", \"LOYALL\", \"LOYALL\", \"SOUTH SHORE\", \"LIBERTY\", \"HODGENVILLE\", \"GREENUP\", \"LEBANON\", \"SOMERSET\", \"CLOVERPORT\", \"EMINENCE\", \"CADIZ\", \"FULTON\", \"MARTIN\", \"GRAND RIVERS\", \"SHEPHERDSVILLE\", \"FLEMING-NEON\", \"PRESTONSBURG\", \"HARRODSBURG\", \"HINDMAN\", \"LOUISA\", \"EDDYVILLE\", \"CLAY\", \"EDMONTON\", \"WARSAW\", \"TAYLORSVILLE\", \"OWENTON\", \"PERRYVILLE\", \"HARDINSBURG\", \"HAZEL\", \"PRINCETON\", \"WILMORE\", \"HICKMAN\", \"WHEELWRIGHT\", \"LOUISVILLE\", \"PROSPECT\", \"PROSPECT\", \"MANCHESTER\", \"STONE\", \"LOUISVILLE\", \"JEFFERSONTOWN\", \"LOUISVILLE\", \"NEW CASTLE\", \"NORTH MIDDLETOWN\", \"PHILPOT\", \"WURTLAND\", \"BOONEVILLE\", \"KEVIL\", \"MOUNT WASHINGTON\", \"MONTICELLO\", \"NEW HAVEN\", \"HILLVIEW\", \"HILLVIEW\", \"HILLVIEW\", \"STANTON\", \"BLOOMFIELD\", \"MCKEE\", \"HILLVIEW\", \"BOYD COUNTY\", \"LOUISVILLE\", \"BURKESVILLE\", \"WINCHESTER\", \"JENKINS\", \"LOUISVILLE\", \"CRESTWOOD\", \"FRENCHBURG\", \"LIVINGSTON\", \"LOUISVILLE\", \"ROBINSON CREEK\", \"PIPPA PASSES\", \"PROSPECT\", \"DRAFFENVILLE\", \"LOUISVILLE\", \"LOUISVILLE\", \"CRESTWOOD\", \"BRODHEAD\", \"PROSPECT\", \"RUSSELL\", \"BURLINGTON\", \"STAMPING GROUND\", \"SANDY HOOK\", \"FANCY FARM\", \"CAMPBELLSVILLE\", \"CRESTWOOD\", \"FORDSVILLE\", \"WHITESVILLE\", \"SYMSONIA\", \"DANVILLE\", \"VICCO\", \"CRESTWOOD\", \"JAMESTOWN\", \"GUTHRIE\", \"CRAB ORCHARD\", \"HOPKINSVILLE\", \"SALEM\", \"DRAKESBORO\", \"NORTONVILLE\", \"CROFTON\", \"ISLAND\", \"JEFFERSONVILLE\", \"BEDFORD\", \"CANEYVILLE\", \"MURRAY\", \"MIDDLESBORO\", \"EVARTS\", \"OWENSBORO\", \"FALMOUTH\", \"LA GRANGE\", \"LOUISVILLE\", \"INEZ\", \"BEREA\", \"SADIEVILLE\", \"SHARPSBURG\", \"MILTON\", \"WEST LIBERTY\", \"CLARKSON\", \"PARIS\", \"BRADFORDSVILLE\", \"HORSE CAVE\", \"DRY RIDGE\", \"SACRAMENTO\", \"HAWESVILLE\", \"IRVINGTON\", \"VERONA\", \"SHEPHERDSVILLE\", \"SCIENCE HILL\", \"GAMALIEL\", \"IRVINE\", \"PIKEVILLE\", \"SUMMERSVILLE\", \"STEARNS\", \"CORINTH\", \"MADISONVILLE\", \"META\", \"LOUISVILLE\", \"LEDBETTER\", \"ROBARDS\", \"NICHOLASVILLE\", \"MEANS\", \"BARDWELL\", \"TOLLESBORO\", \"LOUISVILLE\", \"LOVELY\", \"BUCKNER\", \"MILLSTONE\", \"RICHMOND\", \"VAN LEAR\", \"BROOKS\", \"BARDSTOWN\", \"LEBANON JUNCTION\", \"MOUNT OLIVET\", \"MOUNT STERLING\", \"FREEBURN\", \"SALYERSVILLE\", \"CAMPTON\", \"CARROLLTON\", \"ALEXANDRIA\", \"WAYLAND\", \"RICHMOND\", \"GARRISON\", \"BEAVER DAM\", \"CYNTHIANA\", \"GOSHEN\", \"FALMOUTH\", \"WHITESBURG\", \"OWINGSVILLE\", \"EASTERN\", \"RICHMOND\", \"PETERSBURG\", \"CLOSPLINT\", \"CHAVIES\", \"WARFIELD\", \"VEST\", \"BELFRY\", \"BETSY LAYNE\", \"WILLIAMSTOWN\", \"GRAND RIVERS\", \"CAMPTON\", \"HAZEL GREEN\", \"RICHMOND\", \"CRESTWOOD\", \"PRESTONSBURG\", \"MAYS LICK\", \"RAVENNA\", \"BROOKSVILLE\", \"FORT KNOX\", \"VANCEBURG\", \"BOWLING GREEN\", \"HAZARD\", \"RUSSELL\", \"EMINENCE\", \"RUSSELL\", \"RUSSELL\", \"RUSSELL\", \"GREENUP COUNTY\", \"WILLIAMSTOWN\", \"HENDERSON\", \"MADISONVILLE\", \"BOYD COUNTY\", \"HOPKINS COUNTY\", \"CALDWELL COUNTY\", \"ASHLAND\", \"HOPKINS COUNTY\", \"MEADE COUNTY\", \"WEBSTER COUNTY\", \"WEBSTER COUNTY\", \"CARROLLTON\", \"RUSSELL COUNTY\", \"CARROLLTON\", \"UNION COUNTY\", \"LAWRENCE COUNTY\", \"HOPKINS COUNTY\", \"LAUREL COUNTY\", \"MUHLENBERG COUNTY\", \"CARLISLE COUNTY\", \"CARLISLE COUNTY\", \"PIKE COUNTY\", \"BURNSIDE\", \"CAMPBELLSBURG\", \"RICHMOND\", \"NICHOLASVILLE\", \"LORETTO\", \"KNOX COUNTY\", \"EWING\", \"OHIO COUNTY\", \"OHIO COUNTY\", \"OHIO COUNTY\", \"LYON COUNTY\", \"MERCER COUNTY\", \"MAYSVILLE\", \"BURNSIDE\", \"CLAY CITY\", \"STANTON\", \"NELSON COUNTY\", \"BROWNSVILLE\", \"BROWNSVILLE\", \"LOUISVILLE\", \"WURTLAND\", \"GREENUP\", \"LOUISVILLE\", \"LOUISVILLE\", \"STANFORD\", \"TAYLORSVILLE\", \"CYNTHIANA\", \"CARLISLE\", \"TAYLORSVILLE\", \"ELIZABETHTOWN\", \"LOUISA\", \"MARSHALL COUNTY\", \"HORSE CAVE\", \"PADUCAH\", \"LOUISVILLE\", \"LOUISVILLE\", \"LOUISVILLE\", \"LOUISVILLE\", \"LOUISVILLE\", \"HOPKINSVILLE\", \"ERLANGER\", \"LOUISVILLE\", \"OWENSBORO\", \"GRAYSON\", \"GREENVILLE\", \"WINCHESTER\", \"PADUCAH\", \"HOPKINSVILLE\", \"STANTON\", \"FRANKFORT\", \"WEST LIBERTY\", \"PADUCAH\", \"ELIZABETHTOWN\", \"LEXINGTON\", \"WINCHESTER\"], \"lat\": [38.389141969466515, 37.218245531407625, 37.344055763894694, 37.27382389187834, 37.90647304126744, 37.78825801228558, 37.53522625480516, 36.95630001693792, 38.21738899136773, 38.68642601108157, 37.05793280387321, 38.21189930000003, 37.48810564120615, 38.0571465202072, 37.79742854315021, 36.701208156126015, 37.81672212837903, 36.85853382027727, 36.664092710871735, 37.07772301975679, 37.69358001541978, 38.31416630116357, 38.29935996503034, 37.30161640000006, 37.61787582171629, 36.74279873582878, 38.40568563529995, 36.77024687476099, 37.235161144521605, 38.788253221564126, 38.021686337438574, 37.55863889985494, 37.039303747154435, 36.98361999214795, 36.86447874582061, 36.86523998475877, 36.7520187380841, 38.420686871094276, 37.7930456959832, 37.206300384216156, 38.772894704147866, 37.517233418233246, 37.39296467977129, 37.67220362328016, 39.05890000940249, 38.001593899377404, 38.06180900803852, 37.943496013965216, 38.65359378318544, 36.977144013000874, 37.64246000332872, 37.99712867508533, 38.47729500000003, 37.84789998915414, 37.011068000929, 38.23053801815516, 38.322381342677225, 36.80215052705839, 37.09761999412329, 36.892200041046465, 36.892200041046465, 38.21401688534366, 38.54742999120961, 37.4649529471267, 36.839470903600464, 37.195134123874894, 36.80332320984512, 37.304667554846816, 37.24783248613761, 37.16278370614996, 36.76793739322941, 36.848998876795775, 36.96318327634491, 38.129398782481175, 36.65627872635207, 37.10813410459511, 36.78227554538557, 37.5387021710744, 37.35717615453976, 38.288127783077435, 36.7513010409756, 36.992709998503656, 37.81903448347805, 37.85789746727776, 38.38220998103833, 38.649594969322706, 37.93185182404539, 36.72255890472643, 37.49172999872441, 37.04924595734144, 36.97255104970246, 37.03107149184025, 37.14056506585985, 37.7721260624685, 36.65125443692666, 37.54491672218559, 38.2964796403992, 36.937905250209575, 36.844365775259746, 36.844365775259746, 38.72255800000005, 37.37597213669401, 37.574890350341704, 38.579250000686955, 37.56260542889013, 37.045349984916555, 37.834818278519975, 38.35518797694615, 36.86160868015007, 36.514299035387296, 37.58074350238099, 37.032776313798415, 37.98230800130251, 37.171849181690874, 37.68869790125151, 37.81974564452557, 37.32583791005102, 38.119206992379944, 37.0753600868712, 37.4693805937859, 36.987942960602595, 38.772900224655544, 38.02946738851428, 38.53691500000008, 37.663217800780664, 37.7897600074251, 36.503747940860066, 37.07306979531666, 37.85833998483528, 36.577810719316226, 37.33965969972074, 37.30350002986542, 37.0014444266675, 38.06702699422232, 37.17785305651598, 37.58878760173169, 38.09804401737546, 37.87389040143904, 38.25073400430881, 38.4283800305108, 38.11043318347083, 37.7172216773663, 38.55170541016454, 37.47655650788258, 37.08207005499027, 38.03505336034435, 36.79723519541611, 37.695175709503935, 38.07844601133779, 38.07849629350355, 38.06968965228454, 37.85618137967016, 37.92129972369788, 37.43068857641705, 38.08543862059846, 38.40154885306593, 38.47903998963491, 36.78722878631195, 38.031981105472674, 37.288115216278776, 38.281205994207966, 38.36725396308495, 37.98548398736067, 37.272828992826135, 37.40577470300008, 37.38242279378216, 37.340670995961254, 37.37821100000008, 36.85952000000003, 37.36810002819081, 37.400020033773046, 38.32444990000005, 37.399206700000036, 37.20116005148793, 38.53579735875259, 39.044649705308046, 38.30586255153452, 38.08493131319695, 36.801599256078944, 37.350190162604605, 38.35506960306865, 37.63425314711385, 37.633520242893674, 36.908122709649604, 37.62147754786843, 37.214584374526844, 38.32682500515452, 36.997856017446594, 36.64948068262019, 37.463562169536125, 36.81423714522426, 37.261989181133806, 37.26427096786101, 37.184460279291805, 37.051342037202694, 37.44328092004915, 37.990459985095285, 38.588969990885346, 37.42937489326489, 36.62693668207748, 36.66794907758407, 36.86304282919954, 37.76984301291864, 38.675881986821025, 38.40271002072967, 38.08628500350113, 37.860640020976135, 37.64063837849277, 38.354936986395586, 38.23649054670896, 38.72234013349386, 37.92902393760499, 37.490539484912304, 38.19576262733666, 37.49246860270195, 37.17220637523166, 38.75357808680104, 37.390696467486244, 37.93023001771897, 37.874351191438414, 38.828299519976845, 38.06315002872756, 37.17714323221087, 36.63537441912664, 38.102501010569966, 37.5507100147897, 37.30775748114816, 36.69654840000004, 38.529412817509275, 37.31856073094687, 37.50455958816834, 38.11938601924078, 37.04201166035042, 37.647835789091395, 37.84777834848736, 37.94829004348642, 36.89645000123254, 38.52058780521921, 38.22424698072683, 37.83175003148231, 38.193587990567835, 37.167428463553954, 37.64087263200879, 37.753685729947605, 38.05948929347362, 37.78080579069505, 37.82757164481905, 38.47775734995941, 38.101555180462874, 37.572600351212586, 37.76026163266446, 37.7410173502874, 38.638341966206546, 38.95807816867942, 37.4489899479497, 37.85193998266567, 38.607532400000025, 37.41468760252775, 38.39416001848605, 38.41892099865663, 38.69440222541363, 37.11827070000004, 38.11219034809703, 37.5159106101646, 37.80280756454749, 39.01196965883641, 36.90906644668475, 37.35646473055526, 37.88162579195188, 37.399625222962726, 37.62513747594586, 37.55390500000004, 38.63113987923049, 37.032776313798415, 37.699751856016256, 38.11043318347083, 37.74183645243678, 38.328662988882826, 37.87389040143904, 38.52259001160161, 37.701909992705055, 38.649594969322706, 37.89826284235597, 38.598040048311475, 36.99582999432265, 37.27382389187834, 38.53579735875259, 38.35518797694615, 38.53579735875259, 38.53579735875259, 38.53579735875259, 38.51368998108137, 38.64648644143978, 37.81672212837903, 37.32813979592318, 38.436419981735014, 37.4173504276065, 37.20796018593747, 38.41555998121183, 37.237095361951354, 37.93838823342713, 37.6061099942802, 37.51736998908099, 37.350790057029016, 37.09469361241859, 37.13049060000003, 37.711547371995515, 38.05906356985975, 37.17705998438274, 37.150955372915575, 37.23531355114222, 36.78902500000004, 36.869170339486715, 37.667890027010756, 36.98990998183838, 38.523420000000044, 37.16251425771197, 37.481310035791864, 37.5040885510836, 36.8383011211224, 37.46872334949683, 37.4032091596636, 37.440705714757705, 37.44925235755389, 37.04908005755817, 37.76043998438885, 37.35396708800005, 37.15679002793357, 37.85789746727776, 37.23891004791433, 37.92129972369788, 37.205017238763666, 37.205017238763666, 38.114727986098615, 38.514895055856506, 38.579250000686955, 38.08975954684737, 38.072848980348965, 37.52980001621404, 38.03279707024628, 38.38950001559664, 38.34119817504978, 38.02052756219523, 37.74281515075355, 38.119206992379944, 37.039303747154435, 37.159132357957645, 37.09761999412329, 38.11938601924078, 38.11938601924078, 38.13807498111299, 38.11938601924078, 38.22424698072683, 36.8640099823773, 39.05890000940249, 38.11938601924078, 37.76984301291864, 38.334679868676325, 37.2053591701192, 38.031981105472674, 37.07150005599088, 36.8726762360197, 37.85609977823137, 38.21401688534366, 37.92902393760499, 37.09761999412329, 37.64246000332872, 38.061832980281594, 38.031981105472674], \"legendgroup\": \"#FFFFFF\", \"lon\": [-85.39104350035247, -87.17178041915112, -88.0634562924689, -83.18869932529432, -86.7636834039073, -87.14293002483572, -87.26600919456048, -84.09718001452143, -84.56402695950308, -83.78850736597292, -88.13778502616216, -85.22930009999999, -87.13795936396178, -84.7400761443119, -82.79216004561913, -85.70233752900145, -87.62037387617349, -86.88873059857659, -86.85801991580894, -88.96715020330917, -85.23377002460592, -84.06008171961042, -84.15176168721396, -82.35160379999996, -84.58333934006845, -87.2956926986234, -84.31818318140797, -88.29436728935067, -86.68555040654972, -84.37597089143304, -84.88961712387625, -83.7454171227304, -88.35359410347282, -85.95717001052442, -88.34612215372367, -86.706469993436, -88.6484328407018, -83.76073550463032, -85.46735247376283, -83.37571427232074, -84.01453555365488, -83.34932343788039, -87.77082726505445, -87.8276952150064, -84.61790298326774, -86.14858856921889, -84.52907903330824, -84.50002500996926, -83.37817909133813, -82.99944177511665, -85.90541997268117, -85.96048324242024, -82.64469499999996, -85.93537999593438, -86.45719596485476, -85.83491903070124, -85.54844445225021, -83.40581054964555, -88.61644999525345, -83.06219987713834, -83.06219987713834, -84.87376073477844, -82.71779996469515, -86.29095903558208, -86.9183217898191, -86.27306449616191, -87.14616032562546, -87.14524098918561, -85.50221978615005, -87.69690982881576, -83.7061047740002, -83.90102275456717, -82.90715698743126, -83.74754996899057, -85.17357415982997, -85.30308797100562, -88.14290779313711, -84.63917265641616, -84.33465648854755, -85.47027541049329, -86.20038107243973, -86.94395998816191, -86.00609319887229, -83.91833849628259, -82.62551998841833, -84.11004882396561, -86.92183962338632, -89.00006633829408, -82.54036999425868, -89.0443560731601, -82.9759001555388, -88.57510154416047, -88.4079717111015, -87.89669384461432, -88.74051419658804, -87.9665961285193, -83.18612674885763, -89.02036562986933, -83.35478535319974, -83.35478535319974, -82.96329499999996, -84.89683575918862, -85.7432856920741, -82.83989001197736, -85.26778437174333, -84.59701997442032, -86.6417712337658, -85.18756563360708, -87.8388675549414, -88.88001716260416, -82.74374245900549, -88.23186582935146, -85.72281872898412, -82.72386021777791, -82.77644718268522, -85.0177075232043, -82.99996776341958, -82.61522033528274, -88.09414298986933, -87.8142230087503, -85.62586089382536, -84.89763051369901, -85.35117822872508, -84.83638499999995, -84.93846246068964, -86.4647400129888, -88.3215371607794, -87.8931253676707, -84.65891999409483, -89.15411846392921, -82.72015683553447, -82.64922987793071, -86.4504584004825, -84.55827404025862, -83.76855812507483, -82.26892265254403, -85.64217498788712, -83.86065921842635, -85.5229750208198, -85.15989243578242, -84.14328707878175, -86.96669258028362, -82.7782709254754, -83.66060448203616, -88.88670987863406, -85.55630225850823, -84.92920800342257, -85.55812767091095, -85.66986991485801, -85.68375684932485, -85.69022457414306, -83.86544903628076, -85.32532382597557, -84.01288657316978, -85.66731865593471, -82.59984471037973, -82.63312002766557, -85.3691889127218, -84.20991780605861, -82.55406636104979, -85.61158498079124, -85.38197297171712, -83.55585509978062, -84.22171231953051, -82.24438880399998, -82.54011127446061, -82.86782047213171, -82.25414459999996, -88.35204999999996, -82.41269994639451, -82.43308993169715, -85.47834229999995, -84.42050999999998, -82.82633991112297, -82.69715269871668, -84.7276889501509, -84.71374987844086, -83.12623716668502, -88.79803943012924, -85.37505861219749, -85.4311074886882, -86.7201742788141, -86.87975116437406, -88.52371858228487, -84.73379985474305, -83.06615952598186, -85.43933402068882, -85.07202458883133, -87.20131102211491, -84.50092323054673, -87.52771641379996, -88.2646129679688, -86.99204175075438, -87.44435047800808, -87.47196273738489, -87.1580021711945, -83.85747996338526, -85.30721997158007, -86.50480162114587, -88.29473564359819, -83.68854757843464, -83.19806753141982, -87.07031298758011, -84.33639902823437, -85.46050402590097, -85.89734501480001, -82.52461113600253, -84.31221146627627, -85.40741497902545, -83.90048458088438, -85.36730151148595, -83.26313297084609, -86.21511333977845, -84.27304931804295, -85.15407027964201, -85.91105395698678, -84.61481540282044, -87.25866658433712, -86.77638998570684, -86.29399058067855, -84.67171357445645, -85.69911987786142, -84.63704112809555, -85.79139646927202, -85.73356597951313, -82.45795996042804, -85.52700723650598, -84.47945879999997, -84.57623447154148, -87.5498237518004, -82.52863106256851, -85.5938369713695, -88.46057324576213, -87.50940968243465, -84.61216847321367, -83.76326988626424, -89.0256000259079, -83.54855690138677, -85.4702579628072, -82.40458492301619, -85.68558897156528, -82.75266726382398, -84.31239284201133, -82.75734525590687, -85.70203717013989, -85.51055216297044, -85.73506816307915, -84.04591773482998, -83.91987823571147, -82.13342395054399, -82.9870394158045, -83.54926809223232, -85.1281665482823, -84.39066470937708, -82.81433461129026, -84.3640700375494, -83.16795719999999, -86.92647746881335, -84.30388000994171, -85.61060999781387, -84.33592705074571, -82.82302899999996, -83.77045660996562, -82.80632287330872, -84.18712911805254, -84.83434206503902, -83.0812242855996, -83.34942995012503, -82.4198284140652, -83.05301688453038, -82.27899767152454, -82.63289999999995, -84.61884144923098, -88.23186582935146, -83.33542767606019, -84.14328707878175, -84.15488774699422, -85.54041298364308, -83.86065921842635, -83.83672000087645, -83.918139964304, -84.11004882396561, -85.92223875077781, -83.27021993848972, -86.44248999955249, -83.18869932529432, -82.69715269871668, -85.18756563360708, -82.69715269871668, -82.69715269871668, -82.69715269871668, -82.6959500194974, -84.57002539141742, -87.62037387617349, -87.49770542339338, -82.69759002267271, -87.48195284165672, -88.05789825381727, -82.59850000152295, -87.47382446267547, -85.99250140819655, -87.53158999026361, -87.69064003959794, -82.69498995630768, -85.06289196659755, -83.07201349999997, -87.79350490488096, -82.58990638876352, -87.37994996243154, -84.1265567525843, -87.16287177264014, -89.01357999999999, -89.00944733817695, -82.27705988207695, -84.60164997009637, -85.20719999999994, -83.76732246085146, -82.83206994777176, -82.83973128814287, -83.82872564733975, -82.92299199103314, -86.8703460770406, -86.92570861287844, -87.03927133813337, -88.16688988738083, -84.84408000709679, -82.95401902099997, -82.73986993485124, -83.91833849628259, -82.77347994166122, -85.32532382597557, -86.2829674706169, -86.2829674706169, -85.78638898478187, -82.8032218783288, -82.83989001197736, -85.69931435596199, -85.8765269657022, -84.66144001328453, -85.23287609599352, -84.29790002494022, -84.03029606533786, -85.29218501775271, -85.7662368262142, -82.61522033528274, -88.35359410347282, -85.9201061265553, -88.61644999525345, -85.5938369713695, -85.5938369713695, -85.62965301127622, -85.5938369713695, -85.4702579628072, -87.48590995906196, -84.61790298326774, -85.5938369713695, -87.07031298758011, -82.94019290668108, -87.1789711366607, -84.20991780605861, -88.72046991657487, -87.50620875192281, -83.86553522030457, -84.87376073477844, -83.26313297084609, -88.61644999525345, -85.90541997268117, -84.52896897891954, -84.20991780605861], \"marker\": {\"color\": \"#636efa\"}, \"mode\": \"markers\", \"name\": \"#FFFFFF\", \"showlegend\": true, \"subplot\": \"mapbox\", \"type\": \"scattermapbox\"}, {\"hovertemplate\": \"<b>%{hovertext}</b><br><br>color=#1C8356<br>latitude=%{lat}<br>longitude=%{lon}<extra></extra>\", \"hovertext\": [\"GRAYSON\", null], \"lat\": [38.334679868676325, 38.352076], \"legendgroup\": \"#1C8356\", \"lon\": [-82.94019290668108, -82.912095], \"marker\": {\"color\": \"#EF553B\"}, \"mode\": \"markers\", \"name\": \"#1C8356\", \"showlegend\": true, \"subplot\": \"mapbox\", \"type\": \"scattermapbox\"}, {\"hovertemplate\": \"<b>%{hovertext}</b><br><br>color=#FE00FA<br>latitude=%{lat}<br>longitude=%{lon}<extra></extra>\", \"hovertext\": [\"LONDON\", null], \"lat\": [37.10628998331087, 37.047545], \"legendgroup\": \"#FE00FA\", \"lon\": [-84.06695998463172, -84.099337], \"marker\": {\"color\": \"#00cc96\"}, \"mode\": \"markers\", \"name\": \"#FE00FA\", \"showlegend\": true, \"subplot\": \"mapbox\", \"type\": \"scattermapbox\"}, {\"hovertemplate\": \"<b>%{hovertext}</b><br><br>color=#325A9B<br>latitude=%{lat}<br>longitude=%{lon}<extra></extra>\", \"hovertext\": [\"PADUCAH\", null], \"lat\": [37.09699001028062, 37.050921], \"legendgroup\": \"#325A9B\", \"lon\": [-88.61688996135112, -88.652915], \"marker\": {\"color\": \"#ab63fa\"}, \"mode\": \"markers\", \"name\": \"#325A9B\", \"showlegend\": true, \"subplot\": \"mapbox\", \"type\": \"scattermapbox\"}, {\"hovertemplate\": \"<b>%{hovertext}</b><br><br>color=#B00068<br>latitude=%{lat}<br>longitude=%{lon}<extra></extra>\", \"hovertext\": [\"FRANKLIN\", null], \"lat\": [36.743550005715136, 36.643445], \"legendgroup\": \"#B00068\", \"lon\": [-86.5570199892656, -86.56869], \"marker\": {\"color\": \"#FFA15A\"}, \"mode\": \"markers\", \"name\": \"#B00068\", \"showlegend\": true, \"subplot\": \"mapbox\", \"type\": \"scattermapbox\"}, {\"hovertemplate\": \"<b>%{hovertext}</b><br><br>color=#FBE426<br>latitude=%{lat}<br>longitude=%{lon}<extra></extra>\", \"hovertext\": [\"WILLIAMSBURG\", null], \"lat\": [36.74873353950468, 36.616147], \"legendgroup\": \"#FBE426\", \"lon\": [-84.16783394214922, -84.105513], \"marker\": {\"color\": \"#19d3f3\"}, \"mode\": \"markers\", \"name\": \"#FBE426\", \"showlegend\": true, \"subplot\": \"mapbox\", \"type\": \"scattermapbox\"}, {\"hovertemplate\": \"<b>%{hovertext}</b><br><br>color=#000000<br>latitude=%{lat}<br>longitude=%{lon}<extra></extra>\", \"hovertext\": [\"MIDWAY\", null], \"lat\": [38.15397386068471, 38.170222], \"legendgroup\": \"#000000\", \"lon\": [-84.66938547090352, -84.766152], \"marker\": {\"color\": \"#FF6692\"}, \"mode\": \"markers\", \"name\": \"#000000\", \"showlegend\": true, \"subplot\": \"mapbox\", \"type\": \"scattermapbox\"}, {\"hovertemplate\": \"<b>%{hovertext}</b><br><br>color=#1CBE4F<br>latitude=%{lat}<br>longitude=%{lon}<extra></extra>\", \"hovertext\": [\"MUNFORDVILLE\", null], \"lat\": [37.26886866141272, 37.238955], \"legendgroup\": \"#1CBE4F\", \"lon\": [-85.8879147544585, -85.929602], \"marker\": {\"color\": \"#B6E880\"}, \"mode\": \"markers\", \"name\": \"#1CBE4F\", \"showlegend\": true, \"subplot\": \"mapbox\", \"type\": \"scattermapbox\"}, {\"hovertemplate\": \"<b>%{hovertext}</b><br><br>color=#90AD1C<br>latitude=%{lat}<br>longitude=%{lon}<extra></extra>\", \"hovertext\": [\"CRESTWOOD\", null], \"lat\": [38.32846299667307, 38.339607], \"legendgroup\": \"#90AD1C\", \"lon\": [-85.52300502803317, -85.517966], \"marker\": {\"color\": \"#FF97FF\"}, \"mode\": \"markers\", \"name\": \"#90AD1C\", \"showlegend\": true, \"subplot\": \"mapbox\", \"type\": \"scattermapbox\"}, {\"hovertemplate\": \"<b>%{hovertext}</b><br><br>color=#C4451C<br>latitude=%{lat}<br>longitude=%{lon}<extra></extra>\", \"hovertext\": [\"WALTON\", null], \"lat\": [38.8567094467012, 38.818981], \"legendgroup\": \"#C4451C\", \"lon\": [-84.63238170161182, -84.60123], \"marker\": {\"color\": \"#FECB52\"}, \"mode\": \"markers\", \"name\": \"#C4451C\", \"showlegend\": true, \"subplot\": \"mapbox\", \"type\": \"scattermapbox\"}, {\"hovertemplate\": \"<b>%{hovertext}</b><br><br>color=#2ED9FF<br>latitude=%{lat}<br>longitude=%{lon}<extra></extra>\", \"hovertext\": [\"MOREHEAD\", null], \"lat\": [38.151810591080604, 38.230828], \"legendgroup\": \"#2ED9FF\", \"lon\": [-83.5138345948902, -83.443383], \"marker\": {\"color\": \"#636efa\"}, \"mode\": \"markers\", \"name\": \"#2ED9FF\", \"showlegend\": true, \"subplot\": \"mapbox\", \"type\": \"scattermapbox\"}, {\"hovertemplate\": \"<b>%{hovertext}</b><br><br>color=#FC1CBF<br>latitude=%{lat}<br>longitude=%{lon}<extra></extra>\", \"hovertext\": [\"SIMPSONVILLE\", null], \"lat\": [38.21996093188385, 38.203385], \"legendgroup\": \"#FC1CBF\", \"lon\": [-85.32777636838601, -85.329298], \"marker\": {\"color\": \"#EF553B\"}, \"mode\": \"markers\", \"name\": \"#FC1CBF\", \"showlegend\": true, \"subplot\": \"mapbox\", \"type\": \"scattermapbox\"}, {\"hovertemplate\": \"<b>%{hovertext}</b><br><br>color=#C075A6<br>latitude=%{lat}<br>longitude=%{lon}<extra></extra>\", \"hovertext\": [\"GEORGETOWN\", null], \"lat\": [38.266683005852, 38.249915], \"legendgroup\": \"#C075A6\", \"lon\": [-84.52722001100295, -84.548436], \"marker\": {\"color\": \"#00cc96\"}, \"mode\": \"markers\", \"name\": \"#C075A6\", \"showlegend\": true, \"subplot\": \"mapbox\", \"type\": \"scattermapbox\"}, {\"hovertemplate\": \"<b>%{hovertext}</b><br><br>color=#16FF32<br>latitude=%{lat}<br>longitude=%{lon}<extra></extra>\", \"hovertext\": [\"OAK GROVE\", null], \"lat\": [36.65151000332624, 36.64963], \"legendgroup\": \"#16FF32\", \"lon\": [-87.38854996272761, -87.351527], \"marker\": {\"color\": \"#ab63fa\"}, \"mode\": \"markers\", \"name\": \"#16FF32\", \"showlegend\": true, \"subplot\": \"mapbox\", \"type\": \"scattermapbox\"}, {\"hovertemplate\": \"<b>%{hovertext}</b><br><br>color=#F6222E<br>latitude=%{lat}<br>longitude=%{lon}<extra></extra>\", \"hovertext\": [\"STANTON\", null], \"lat\": [37.81939058885522, 37.796204], \"legendgroup\": \"#F6222E\", \"lon\": [-83.72350496454028, -83.704852], \"marker\": {\"color\": \"#FFA15A\"}, \"mode\": \"markers\", \"name\": \"#F6222E\", \"showlegend\": true, \"subplot\": \"mapbox\", \"type\": \"scattermapbox\"}, {\"hovertemplate\": \"<b>%{hovertext}</b><br><br>color=#F7E1A0<br>latitude=%{lat}<br>longitude=%{lon}<extra></extra>\", \"hovertext\": [\"WINCHESTER\", null], \"lat\": [37.99582000000004, 38.020815], \"legendgroup\": \"#F7E1A0\", \"lon\": [-84.17573999999996, -84.140675], \"marker\": {\"color\": \"#19d3f3\"}, \"mode\": \"markers\", \"name\": \"#F7E1A0\", \"showlegend\": true, \"subplot\": \"mapbox\", \"type\": \"scattermapbox\"}, {\"hovertemplate\": \"<b>%{hovertext}</b><br><br>color=#3283FE<br>latitude=%{lat}<br>longitude=%{lon}<extra></extra>\", \"hovertext\": [\"FLORENCE\", null], \"lat\": [38.988211019424824, 38.938702], \"legendgroup\": \"#3283FE\", \"lon\": [-84.63583698712095, -84.633831], \"marker\": {\"color\": \"#FF6692\"}, \"mode\": \"markers\", \"name\": \"#3283FE\", \"showlegend\": true, \"subplot\": \"mapbox\", \"type\": \"scattermapbox\"}, {\"hovertemplate\": \"<b>%{hovertext}</b><br><br>color=#FEAF16<br>latitude=%{lat}<br>longitude=%{lon}<extra></extra>\", \"hovertext\": [\"HARTFORD\", null], \"lat\": [37.37138678612162, 37.376437], \"legendgroup\": \"#FEAF16\", \"lon\": [-86.83362495137403, -86.827028], \"marker\": {\"color\": \"#B6E880\"}, \"mode\": \"markers\", \"name\": \"#FEAF16\", \"showlegend\": true, \"subplot\": \"mapbox\", \"type\": \"scattermapbox\"}, {\"hovertemplate\": \"<b>%{hovertext}</b><br><br>color=#782AB6<br>latitude=%{lat}<br>longitude=%{lon}<extra></extra>\", \"hovertext\": [\"SHEPHERDSVILLE\", null], \"lat\": [37.941130012246376, 37.946386], \"legendgroup\": \"#782AB6\", \"lon\": [-85.6994099755303, -85.690495], \"marker\": {\"color\": \"#FF97FF\"}, \"mode\": \"markers\", \"name\": \"#782AB6\", \"showlegend\": true, \"subplot\": \"mapbox\", \"type\": \"scattermapbox\"}, {\"hovertemplate\": \"<b>%{hovertext}</b><br><br>color=#AA0DFE<br>latitude=%{lat}<br>longitude=%{lon}<extra></extra>\", \"hovertext\": [null], \"lat\": [38.937132], \"legendgroup\": \"#AA0DFE\", \"lon\": [-84.630865], \"marker\": {\"color\": \"#FECB52\"}, \"mode\": \"markers\", \"name\": \"#AA0DFE\", \"showlegend\": true, \"subplot\": \"mapbox\", \"type\": \"scattermapbox\"}, {\"hovertemplate\": \"<b>%{hovertext}</b><br><br>color=#85660D<br>latitude=%{lat}<br>longitude=%{lon}<extra></extra>\", \"hovertext\": [null], \"lat\": [38.864814], \"legendgroup\": \"#85660D\", \"lon\": [-84.647903], \"marker\": {\"color\": \"#636efa\"}, \"mode\": \"markers\", \"name\": \"#85660D\", \"showlegend\": true, \"subplot\": \"mapbox\", \"type\": \"scattermapbox\"}, {\"hovertemplate\": \"<b>%{hovertext}</b><br><br>color=#565656<br>latitude=%{lat}<br>longitude=%{lon}<extra></extra>\", \"hovertext\": [null], \"lat\": [38.35642], \"legendgroup\": \"#565656\", \"lon\": [-82.898557], \"marker\": {\"color\": \"#EF553B\"}, \"mode\": \"markers\", \"name\": \"#565656\", \"showlegend\": true, \"subplot\": \"mapbox\", \"type\": \"scattermapbox\"}, {\"hovertemplate\": \"<b>%{hovertext}</b><br><br>color=#E2E2E2<br>latitude=%{lat}<br>longitude=%{lon}<extra></extra>\", \"hovertext\": [null], \"lat\": [37.238489], \"legendgroup\": \"#E2E2E2\", \"lon\": [-85.927053], \"marker\": {\"color\": \"#00cc96\"}, \"mode\": \"markers\", \"name\": \"#E2E2E2\", \"showlegend\": true, \"subplot\": \"mapbox\", \"type\": \"scattermapbox\"}, {\"hovertemplate\": \"<b>%{hovertext}</b><br><br>color=#DEA0FD<br>latitude=%{lat}<br>longitude=%{lon}<extra></extra>\", \"hovertext\": [null], \"lat\": [37.042895], \"legendgroup\": \"#DEA0FD\", \"lon\": [-84.097301], \"marker\": {\"color\": \"#ab63fa\"}, \"mode\": \"markers\", \"name\": \"#DEA0FD\", \"showlegend\": true, \"subplot\": \"mapbox\", \"type\": \"scattermapbox\"}, {\"hovertemplate\": \"<b>%{hovertext}</b><br><br>color=#F8A19F<br>latitude=%{lat}<br>longitude=%{lon}<extra></extra>\", \"hovertext\": [null], \"lat\": [38.338016], \"legendgroup\": \"#F8A19F\", \"lon\": [-85.516005], \"marker\": {\"color\": \"#FFA15A\"}, \"mode\": \"markers\", \"name\": \"#F8A19F\", \"showlegend\": true, \"subplot\": \"mapbox\", \"type\": \"scattermapbox\"}, {\"hovertemplate\": \"<b>%{hovertext}</b><br><br>color=#1CFFCE<br>latitude=%{lat}<br>longitude=%{lon}<extra></extra>\", \"hovertext\": [null], \"lat\": [38.236439], \"legendgroup\": \"#1CFFCE\", \"lon\": [-83.438447], \"marker\": {\"color\": \"#19d3f3\"}, \"mode\": \"markers\", \"name\": \"#1CFFCE\", \"showlegend\": true, \"subplot\": \"mapbox\", \"type\": \"scattermapbox\"}, {\"hovertemplate\": \"<b>%{hovertext}</b><br><br>color=#B10DA1<br>latitude=%{lat}<br>longitude=%{lon}<extra></extra>\", \"hovertext\": [null], \"lat\": [38.247873], \"legendgroup\": \"#B10DA1\", \"lon\": [-84.545895], \"marker\": {\"color\": \"#FF6692\"}, \"mode\": \"markers\", \"name\": \"#B10DA1\", \"showlegend\": true, \"subplot\": \"mapbox\", \"type\": \"scattermapbox\"}, {\"hovertemplate\": \"<b>%{hovertext}</b><br><br>color=#FA0087<br>latitude=%{lat}<br>longitude=%{lon}<extra></extra>\", \"hovertext\": [null], \"lat\": [38.168718], \"legendgroup\": \"#FA0087\", \"lon\": [-84.766075], \"marker\": {\"color\": \"#B6E880\"}, \"mode\": \"markers\", \"name\": \"#FA0087\", \"showlegend\": true, \"subplot\": \"mapbox\", \"type\": \"scattermapbox\"}],                        {\"height\": 800, \"legend\": {\"title\": {\"text\": \"color\"}, \"tracegroupgap\": 0}, \"mapbox\": {\"center\": {\"lat\": 37.692978920641835, \"lon\": -85.14595763669689}, \"domain\": {\"x\": [0.0, 1.0], \"y\": [0.0, 1.0]}, \"style\": \"open-street-map\", \"zoom\": 5}, \"margin\": {\"b\": 0, \"l\": 0, \"r\": 0, \"t\": 0}, \"template\": {\"data\": {\"bar\": [{\"error_x\": {\"color\": \"#2a3f5f\"}, \"error_y\": {\"color\": \"#2a3f5f\"}, \"marker\": {\"line\": {\"color\": \"#E5ECF6\", \"width\": 0.5}}, \"type\": \"bar\"}], \"barpolar\": [{\"marker\": {\"line\": {\"color\": \"#E5ECF6\", \"width\": 0.5}}, \"type\": \"barpolar\"}], \"carpet\": [{\"aaxis\": {\"endlinecolor\": \"#2a3f5f\", \"gridcolor\": \"white\", \"linecolor\": \"white\", \"minorgridcolor\": \"white\", \"startlinecolor\": \"#2a3f5f\"}, \"baxis\": {\"endlinecolor\": \"#2a3f5f\", \"gridcolor\": \"white\", \"linecolor\": \"white\", \"minorgridcolor\": \"white\", \"startlinecolor\": \"#2a3f5f\"}, \"type\": \"carpet\"}], \"choropleth\": [{\"colorbar\": {\"outlinewidth\": 0, \"ticks\": \"\"}, \"type\": \"choropleth\"}], \"contour\": [{\"colorbar\": {\"outlinewidth\": 0, \"ticks\": \"\"}, \"colorscale\": [[0.0, \"#0d0887\"], [0.1111111111111111, \"#46039f\"], [0.2222222222222222, \"#7201a8\"], [0.3333333333333333, \"#9c179e\"], [0.4444444444444444, \"#bd3786\"], [0.5555555555555556, \"#d8576b\"], [0.6666666666666666, \"#ed7953\"], [0.7777777777777778, \"#fb9f3a\"], [0.8888888888888888, \"#fdca26\"], [1.0, \"#f0f921\"]], \"type\": \"contour\"}], \"contourcarpet\": [{\"colorbar\": {\"outlinewidth\": 0, \"ticks\": \"\"}, \"type\": \"contourcarpet\"}], \"heatmap\": [{\"colorbar\": {\"outlinewidth\": 0, \"ticks\": \"\"}, \"colorscale\": [[0.0, \"#0d0887\"], [0.1111111111111111, \"#46039f\"], [0.2222222222222222, \"#7201a8\"], [0.3333333333333333, \"#9c179e\"], [0.4444444444444444, \"#bd3786\"], [0.5555555555555556, \"#d8576b\"], [0.6666666666666666, \"#ed7953\"], [0.7777777777777778, \"#fb9f3a\"], [0.8888888888888888, \"#fdca26\"], [1.0, \"#f0f921\"]], \"type\": \"heatmap\"}], \"heatmapgl\": [{\"colorbar\": {\"outlinewidth\": 0, \"ticks\": \"\"}, \"colorscale\": [[0.0, \"#0d0887\"], [0.1111111111111111, \"#46039f\"], [0.2222222222222222, \"#7201a8\"], [0.3333333333333333, \"#9c179e\"], [0.4444444444444444, \"#bd3786\"], [0.5555555555555556, \"#d8576b\"], [0.6666666666666666, \"#ed7953\"], [0.7777777777777778, \"#fb9f3a\"], [0.8888888888888888, \"#fdca26\"], [1.0, \"#f0f921\"]], \"type\": \"heatmapgl\"}], \"histogram\": [{\"marker\": {\"colorbar\": {\"outlinewidth\": 0, \"ticks\": \"\"}}, \"type\": \"histogram\"}], \"histogram2d\": [{\"colorbar\": {\"outlinewidth\": 0, \"ticks\": \"\"}, \"colorscale\": [[0.0, \"#0d0887\"], [0.1111111111111111, \"#46039f\"], [0.2222222222222222, \"#7201a8\"], [0.3333333333333333, \"#9c179e\"], [0.4444444444444444, \"#bd3786\"], [0.5555555555555556, \"#d8576b\"], [0.6666666666666666, \"#ed7953\"], [0.7777777777777778, \"#fb9f3a\"], [0.8888888888888888, \"#fdca26\"], [1.0, \"#f0f921\"]], \"type\": \"histogram2d\"}], \"histogram2dcontour\": [{\"colorbar\": {\"outlinewidth\": 0, \"ticks\": \"\"}, \"colorscale\": [[0.0, \"#0d0887\"], [0.1111111111111111, \"#46039f\"], [0.2222222222222222, \"#7201a8\"], [0.3333333333333333, \"#9c179e\"], [0.4444444444444444, \"#bd3786\"], [0.5555555555555556, \"#d8576b\"], [0.6666666666666666, \"#ed7953\"], [0.7777777777777778, \"#fb9f3a\"], [0.8888888888888888, \"#fdca26\"], [1.0, \"#f0f921\"]], \"type\": \"histogram2dcontour\"}], \"mesh3d\": [{\"colorbar\": {\"outlinewidth\": 0, \"ticks\": \"\"}, \"type\": \"mesh3d\"}], \"parcoords\": [{\"line\": {\"colorbar\": {\"outlinewidth\": 0, \"ticks\": \"\"}}, \"type\": \"parcoords\"}], \"pie\": [{\"automargin\": true, \"type\": \"pie\"}], \"scatter\": [{\"marker\": {\"colorbar\": {\"outlinewidth\": 0, \"ticks\": \"\"}}, \"type\": \"scatter\"}], \"scatter3d\": [{\"line\": {\"colorbar\": {\"outlinewidth\": 0, \"ticks\": \"\"}}, \"marker\": {\"colorbar\": {\"outlinewidth\": 0, \"ticks\": \"\"}}, \"type\": \"scatter3d\"}], \"scattercarpet\": [{\"marker\": {\"colorbar\": {\"outlinewidth\": 0, \"ticks\": \"\"}}, \"type\": \"scattercarpet\"}], \"scattergeo\": [{\"marker\": {\"colorbar\": {\"outlinewidth\": 0, \"ticks\": \"\"}}, \"type\": \"scattergeo\"}], \"scattergl\": [{\"marker\": {\"colorbar\": {\"outlinewidth\": 0, \"ticks\": \"\"}}, \"type\": \"scattergl\"}], \"scattermapbox\": [{\"marker\": {\"colorbar\": {\"outlinewidth\": 0, \"ticks\": \"\"}}, \"type\": \"scattermapbox\"}], \"scatterpolar\": [{\"marker\": {\"colorbar\": {\"outlinewidth\": 0, \"ticks\": \"\"}}, \"type\": \"scatterpolar\"}], \"scatterpolargl\": [{\"marker\": {\"colorbar\": {\"outlinewidth\": 0, \"ticks\": \"\"}}, \"type\": \"scatterpolargl\"}], \"scatterternary\": [{\"marker\": {\"colorbar\": {\"outlinewidth\": 0, \"ticks\": \"\"}}, \"type\": \"scatterternary\"}], \"surface\": [{\"colorbar\": {\"outlinewidth\": 0, \"ticks\": \"\"}, \"colorscale\": [[0.0, \"#0d0887\"], [0.1111111111111111, \"#46039f\"], [0.2222222222222222, \"#7201a8\"], [0.3333333333333333, \"#9c179e\"], [0.4444444444444444, \"#bd3786\"], [0.5555555555555556, \"#d8576b\"], [0.6666666666666666, \"#ed7953\"], [0.7777777777777778, \"#fb9f3a\"], [0.8888888888888888, \"#fdca26\"], [1.0, \"#f0f921\"]], \"type\": \"surface\"}], \"table\": [{\"cells\": {\"fill\": {\"color\": \"#EBF0F8\"}, \"line\": {\"color\": \"white\"}}, \"header\": {\"fill\": {\"color\": \"#C8D4E3\"}, \"line\": {\"color\": \"white\"}}, \"type\": \"table\"}]}, \"layout\": {\"annotationdefaults\": {\"arrowcolor\": \"#2a3f5f\", \"arrowhead\": 0, \"arrowwidth\": 1}, \"autotypenumbers\": \"strict\", \"coloraxis\": {\"colorbar\": {\"outlinewidth\": 0, \"ticks\": \"\"}}, \"colorscale\": {\"diverging\": [[0, \"#8e0152\"], [0.1, \"#c51b7d\"], [0.2, \"#de77ae\"], [0.3, \"#f1b6da\"], [0.4, \"#fde0ef\"], [0.5, \"#f7f7f7\"], [0.6, \"#e6f5d0\"], [0.7, \"#b8e186\"], [0.8, \"#7fbc41\"], [0.9, \"#4d9221\"], [1, \"#276419\"]], \"sequential\": [[0.0, \"#0d0887\"], [0.1111111111111111, \"#46039f\"], [0.2222222222222222, \"#7201a8\"], [0.3333333333333333, \"#9c179e\"], [0.4444444444444444, \"#bd3786\"], [0.5555555555555556, \"#d8576b\"], [0.6666666666666666, \"#ed7953\"], [0.7777777777777778, \"#fb9f3a\"], [0.8888888888888888, \"#fdca26\"], [1.0, \"#f0f921\"]], \"sequentialminus\": [[0.0, \"#0d0887\"], [0.1111111111111111, \"#46039f\"], [0.2222222222222222, \"#7201a8\"], [0.3333333333333333, \"#9c179e\"], [0.4444444444444444, \"#bd3786\"], [0.5555555555555556, \"#d8576b\"], [0.6666666666666666, \"#ed7953\"], [0.7777777777777778, \"#fb9f3a\"], [0.8888888888888888, \"#fdca26\"], [1.0, \"#f0f921\"]]}, \"colorway\": [\"#636efa\", \"#EF553B\", \"#00cc96\", \"#ab63fa\", \"#FFA15A\", \"#19d3f3\", \"#FF6692\", \"#B6E880\", \"#FF97FF\", \"#FECB52\"], \"font\": {\"color\": \"#2a3f5f\"}, \"geo\": {\"bgcolor\": \"white\", \"lakecolor\": \"white\", \"landcolor\": \"#E5ECF6\", \"showlakes\": true, \"showland\": true, \"subunitcolor\": \"white\"}, \"hoverlabel\": {\"align\": \"left\"}, \"hovermode\": \"closest\", \"mapbox\": {\"style\": \"light\"}, \"paper_bgcolor\": \"white\", \"plot_bgcolor\": \"#E5ECF6\", \"polar\": {\"angularaxis\": {\"gridcolor\": \"white\", \"linecolor\": \"white\", \"ticks\": \"\"}, \"bgcolor\": \"#E5ECF6\", \"radialaxis\": {\"gridcolor\": \"white\", \"linecolor\": \"white\", \"ticks\": \"\"}}, \"scene\": {\"xaxis\": {\"backgroundcolor\": \"#E5ECF6\", \"gridcolor\": \"white\", \"gridwidth\": 2, \"linecolor\": \"white\", \"showbackground\": true, \"ticks\": \"\", \"zerolinecolor\": \"white\"}, \"yaxis\": {\"backgroundcolor\": \"#E5ECF6\", \"gridcolor\": \"white\", \"gridwidth\": 2, \"linecolor\": \"white\", \"showbackground\": true, \"ticks\": \"\", \"zerolinecolor\": \"white\"}, \"zaxis\": {\"backgroundcolor\": \"#E5ECF6\", \"gridcolor\": \"white\", \"gridwidth\": 2, \"linecolor\": \"white\", \"showbackground\": true, \"ticks\": \"\", \"zerolinecolor\": \"white\"}}, \"shapedefaults\": {\"line\": {\"color\": \"#2a3f5f\"}}, \"ternary\": {\"aaxis\": {\"gridcolor\": \"white\", \"linecolor\": \"white\", \"ticks\": \"\"}, \"baxis\": {\"gridcolor\": \"white\", \"linecolor\": \"white\", \"ticks\": \"\"}, \"bgcolor\": \"#E5ECF6\", \"caxis\": {\"gridcolor\": \"white\", \"linecolor\": \"white\", \"ticks\": \"\"}}, \"title\": {\"x\": 0.05}, \"xaxis\": {\"automargin\": true, \"gridcolor\": \"white\", \"linecolor\": \"white\", \"ticks\": \"\", \"title\": {\"standoff\": 15}, \"zerolinecolor\": \"white\", \"zerolinewidth\": 2}, \"yaxis\": {\"automargin\": true, \"gridcolor\": \"white\", \"linecolor\": \"white\", \"ticks\": \"\", \"title\": {\"standoff\": 15}, \"zerolinecolor\": \"white\", \"zerolinewidth\": 2}}}},                        {\"responsive\": true}                    ).then(function(){\n",
       "                            \n",
       "var gd = document.getElementById('42e3d64e-421f-4ac6-aef1-5a0c4c6772bc');\n",
       "var x = new MutationObserver(function (mutations, observer) {{\n",
       "        var display = window.getComputedStyle(gd).display;\n",
       "        if (!display || display === 'none') {{\n",
       "            console.log([gd, 'removed!']);\n",
       "            Plotly.purge(gd);\n",
       "            observer.disconnect();\n",
       "        }}\n",
       "}});\n",
       "\n",
       "// Listen for the removal of the full notebook cells\n",
       "var notebookContainer = gd.closest('#notebook-container');\n",
       "if (notebookContainer) {{\n",
       "    x.observe(notebookContainer, {childList: true});\n",
       "}}\n",
       "\n",
       "// Listen for the clearing of the current output cell\n",
       "var outputEl = gd.closest('.output');\n",
       "if (outputEl) {{\n",
       "    x.observe(outputEl, {childList: true});\n",
       "}}\n",
       "\n",
       "                        })                };                });            </script>        </div>"
      ]
     },
     "metadata": {},
     "output_type": "display_data"
    }
   ],
   "source": [
    "# utilize plotly_express scatter_mapbox and dataframe columns\n",
    "fig = px.scatter_mapbox(colored, lat=\"latitude\", lon=\"longitude\", hover_name=\"City\" ,\n",
    "                        color=\"color\", zoom=5, height=800)\n",
    "fig.update_layout(mapbox_style=\"open-street-map\") # include streets\n",
    "fig.update_layout(margin={\"r\":0, \"t\":0, \"l\":0, \"b\":0}) # remove margins to make figure larger\n",
    "fig.show()"
   ]
  },
  {
   "cell_type": "code",
   "execution_count": 14,
   "metadata": {
    "ExecuteTime": {
     "end_time": "2021-02-24T16:44:24.287996Z",
     "start_time": "2021-02-24T16:44:24.271802Z"
    },
    "scrolled": true
   },
   "outputs": [
    {
     "data": {
      "text/plain": [
       "[Point(38.937132, -84.630865, 0.0),\n",
       " Point(38.938702, -84.633831, 0.0),\n",
       " Point(38.864814, -84.647903, 0.0),\n",
       " Point(37.946386, -85.690495, 0.0),\n",
       " Point(38.35642, -82.898557, 0.0),\n",
       " Point(38.352076, -82.912095, 0.0),\n",
       " Point(36.64963, -87.351527, 0.0),\n",
       " Point(38.020815, -84.140675, 0.0),\n",
       " Point(37.238489, -85.927053, 0.0),\n",
       " Point(37.238955, -85.929602, 0.0),\n",
       " Point(38.818981, -84.60123, 0.0),\n",
       " Point(37.042895, -84.097301, 0.0),\n",
       " Point(37.047545, -84.099337, 0.0),\n",
       " Point(37.050921, -88.652915, 0.0),\n",
       " Point(37.376437, -86.827028, 0.0),\n",
       " Point(38.338016, -85.516005, 0.0),\n",
       " Point(38.339607, -85.517966, 0.0),\n",
       " Point(37.796204, -83.704852, 0.0),\n",
       " Point(38.236439, -83.438447, 0.0),\n",
       " Point(38.230828, -83.443383, 0.0),\n",
       " Point(38.247873, -84.545895, 0.0),\n",
       " Point(38.249915, -84.548436, 0.0),\n",
       " Point(38.203385, -85.329298, 0.0),\n",
       " Point(36.643445, -86.56869, 0.0),\n",
       " Point(36.616147, -84.105513, 0.0),\n",
       " Point(38.168718, -84.766075, 0.0),\n",
       " Point(38.170222, -84.766152, 0.0)]"
      ]
     },
     "execution_count": 14,
     "metadata": {},
     "output_type": "execute_result"
    }
   ],
   "source": [
    "shape = shapefile.Reader(\"../data/layer/RestAreaLocations_KYSZ.shp\")\n",
    "\n",
    "#first feature of the shapefile\n",
    "features = shape.shapeRecords()\n",
    "\n",
    "points = []\n",
    "for feature in features.__geo_interface__['features']:\n",
    "    point = geopy.point.Point(\n",
    "        latitude=feature['properties']['Latitude'], \n",
    "        longitude=feature['properties']['Longitude']\n",
    "    )\n",
    "    points.append(point)\n",
    "\n",
    "points"
   ]
  },
  {
   "cell_type": "code",
   "execution_count": 13,
   "metadata": {
    "ExecuteTime": {
     "end_time": "2021-02-24T16:44:19.885831Z",
     "start_time": "2021-02-24T16:44:19.863811Z"
    },
    "scrolled": true
   },
   "outputs": [
    {
     "data": {
      "text/html": [
       "<div>\n",
       "<style scoped>\n",
       "    .dataframe tbody tr th:only-of-type {\n",
       "        vertical-align: middle;\n",
       "    }\n",
       "\n",
       "    .dataframe tbody tr th {\n",
       "        vertical-align: top;\n",
       "    }\n",
       "\n",
       "    .dataframe thead th {\n",
       "        text-align: right;\n",
       "    }\n",
       "</style>\n",
       "<table border=\"1\" class=\"dataframe\">\n",
       "  <thead>\n",
       "    <tr style=\"text-align: right;\">\n",
       "      <th></th>\n",
       "      <th>Location Address</th>\n",
       "      <th>City</th>\n",
       "      <th>State Code</th>\n",
       "      <th>Zip</th>\n",
       "      <th>full_address</th>\n",
       "      <th>latitude</th>\n",
       "      <th>longitude</th>\n",
       "    </tr>\n",
       "  </thead>\n",
       "  <tbody>\n",
       "    <tr>\n",
       "      <th>0</th>\n",
       "      <td>2615 NEW MOODY LN</td>\n",
       "      <td>LA GRANGE</td>\n",
       "      <td>KY</td>\n",
       "      <td>40031.0</td>\n",
       "      <td>2615 NEW MOODY LN LA GRANGE KY 40031.0</td>\n",
       "      <td>38.389142</td>\n",
       "      <td>-85.391044</td>\n",
       "    </tr>\n",
       "    <tr>\n",
       "      <th>1</th>\n",
       "      <td>WASTEWATER DR</td>\n",
       "      <td>GREENVILLE</td>\n",
       "      <td>KY</td>\n",
       "      <td>42345.0</td>\n",
       "      <td>WASTEWATER DR GREENVILLE KY 42345.0</td>\n",
       "      <td>37.218246</td>\n",
       "      <td>-87.171780</td>\n",
       "    </tr>\n",
       "    <tr>\n",
       "      <th>2</th>\n",
       "      <td>530 ADAMS ST</td>\n",
       "      <td>MARION</td>\n",
       "      <td>KY</td>\n",
       "      <td>42064.0</td>\n",
       "      <td>530 ADAMS ST MARION KY 42064.0</td>\n",
       "      <td>37.344056</td>\n",
       "      <td>-88.063456</td>\n",
       "    </tr>\n",
       "    <tr>\n",
       "      <th>3</th>\n",
       "      <td>332 N FORK RD</td>\n",
       "      <td>HAZARD</td>\n",
       "      <td>KY</td>\n",
       "      <td>41701.0</td>\n",
       "      <td>332 N FORK RD HAZARD KY 41701.0</td>\n",
       "      <td>37.273824</td>\n",
       "      <td>-83.188699</td>\n",
       "    </tr>\n",
       "    <tr>\n",
       "      <th>4</th>\n",
       "      <td>280 NUGENT LN</td>\n",
       "      <td>HAWESVILLE</td>\n",
       "      <td>KY</td>\n",
       "      <td>42348.0</td>\n",
       "      <td>280 NUGENT LN HAWESVILLE KY 42348.0</td>\n",
       "      <td>37.906473</td>\n",
       "      <td>-86.763683</td>\n",
       "    </tr>\n",
       "  </tbody>\n",
       "</table>\n",
       "</div>"
      ],
      "text/plain": [
       "    Location Address        City State Code      Zip  \\\n",
       "0  2615 NEW MOODY LN   LA GRANGE         KY  40031.0   \n",
       "1      WASTEWATER DR  GREENVILLE         KY  42345.0   \n",
       "2       530 ADAMS ST      MARION         KY  42064.0   \n",
       "3      332 N FORK RD      HAZARD         KY  41701.0   \n",
       "4      280 NUGENT LN  HAWESVILLE         KY  42348.0   \n",
       "\n",
       "                             full_address   latitude  longitude  \n",
       "0  2615 NEW MOODY LN LA GRANGE KY 40031.0  38.389142 -85.391044  \n",
       "1     WASTEWATER DR GREENVILLE KY 42345.0  37.218246 -87.171780  \n",
       "2          530 ADAMS ST MARION KY 42064.0  37.344056 -88.063456  \n",
       "3         332 N FORK RD HAZARD KY 41701.0  37.273824 -83.188699  \n",
       "4     280 NUGENT LN HAWESVILLE KY 42348.0  37.906473 -86.763683  "
      ]
     },
     "execution_count": 13,
     "metadata": {},
     "output_type": "execute_result"
    }
   ],
   "source": [
    "df.head()"
   ]
  },
  {
   "cell_type": "code",
   "execution_count": 16,
   "metadata": {
    "ExecuteTime": {
     "end_time": "2021-02-24T16:44:32.174703Z",
     "start_time": "2021-02-24T16:44:32.168945Z"
    }
   },
   "outputs": [
    {
     "data": {
      "text/plain": [
       "(387, 7)"
      ]
     },
     "execution_count": 16,
     "metadata": {},
     "output_type": "execute_result"
    }
   ],
   "source": [
    "df.shape"
   ]
  },
  {
   "cell_type": "code",
   "execution_count": 15,
   "metadata": {
    "ExecuteTime": {
     "end_time": "2021-02-24T16:44:28.125078Z",
     "start_time": "2021-02-24T16:44:28.097420Z"
    }
   },
   "outputs": [
    {
     "data": {
      "text/plain": [
       "[{'type': 'Feature',\n",
       "  'properties': {'DESCRIPTIO': 'Boone County Rest Area Northbound I-75',\n",
       "   'DISTRICT': 6,\n",
       "   'Latitude': 38.937132,\n",
       "   'Longitude': -84.630865,\n",
       "   'Status': 'Open',\n",
       "   'Facility_T': 'Rest Area'},\n",
       "  'geometry': {'type': 'Point',\n",
       "   'coordinates': (5239615.089983553, 4230882.141663477)}},\n",
       " {'type': 'Feature',\n",
       "  'properties': {'DESCRIPTIO': 'Boone County Rest Area Southbound I-75',\n",
       "   'DISTRICT': 6,\n",
       "   'Latitude': 38.938702,\n",
       "   'Longitude': -84.633831,\n",
       "   'Status': 'Open',\n",
       "   'Facility_T': 'Rest Area'},\n",
       "  'geometry': {'type': 'Point',\n",
       "   'coordinates': (5238764.543456301, 4231443.863965228)}},\n",
       " {'type': 'Feature',\n",
       "  'properties': {'DESCRIPTIO': 'Boone County Trucker Rest Haven Southbound I-71',\n",
       "   'DISTRICT': 6,\n",
       "   'Latitude': 38.864814,\n",
       "   'Longitude': -84.647903,\n",
       "   'Status': 'Open',\n",
       "   'Facility_T': 'Trucker Rest Haven'},\n",
       "  'geometry': {'type': 'Point',\n",
       "   'coordinates': (5235079.539015308, 4204485.138355225)}},\n",
       " {'type': 'Feature',\n",
       "  'properties': {'DESCRIPTIO': 'Bullitt County Welcome Center Southbound I-65',\n",
       "   'DISTRICT': 5,\n",
       "   'Latitude': 37.946386,\n",
       "   'Longitude': -85.690495,\n",
       "   'Status': 'Open',\n",
       "   'Facility_T': 'Welcome Center'},\n",
       "  'geometry': {'type': 'Point',\n",
       "   'coordinates': (4938409.434193969, 3868172.7237110585)}},\n",
       " {'type': 'Feature',\n",
       "  'properties': {'DESCRIPTIO': 'Carter County Rest Area Eastbound I-64',\n",
       "   'DISTRICT': 9,\n",
       "   'Latitude': 38.35642,\n",
       "   'Longitude': -82.898557,\n",
       "   'Status': 'Open',\n",
       "   'Facility_T': 'Rest Area'},\n",
       "  'geometry': {'type': 'Point',\n",
       "   'coordinates': (5738764.416157976, 4029967.817443058)}},\n",
       " {'type': 'Feature',\n",
       "  'properties': {'DESCRIPTIO': 'Carter County Welcome Center Westbound I-64',\n",
       "   'DISTRICT': 9,\n",
       "   'Latitude': 38.352076,\n",
       "   'Longitude': -82.912095,\n",
       "   'Status': 'Open',\n",
       "   'Facility_T': 'Welcome Center'},\n",
       "  'geometry': {'type': 'Point',\n",
       "   'coordinates': (5734932.349018976, 4028268.3201858997)}},\n",
       " {'type': 'Feature',\n",
       "  'properties': {'DESCRIPTIO': 'Christian County Welcome Center Northbound I-24',\n",
       "   'DISTRICT': 2,\n",
       "   'Latitude': 36.64963,\n",
       "   'Longitude': -87.351527,\n",
       "   'Status': 'Open',\n",
       "   'Facility_T': 'Welcome Center'},\n",
       "  'geometry': {'type': 'Point',\n",
       "   'coordinates': (4451377.509965807, 3400038.710177809)}},\n",
       " {'type': 'Feature',\n",
       "  'properties': {'DESCRIPTIO': 'Clark County Rest Area Eastbound I-64',\n",
       "   'DISTRICT': 7,\n",
       "   'Latitude': 38.020815,\n",
       "   'Longitude': -84.140675,\n",
       "   'Status': 'Open',\n",
       "   'Facility_T': 'Rest Area'},\n",
       "  'geometry': {'type': 'Point',\n",
       "   'coordinates': (5384803.61292614, 3899265.8403304815)}},\n",
       " {'type': 'Feature',\n",
       "  'properties': {'DESCRIPTIO': 'Hart County Rest Area Northbound I-65',\n",
       "   'DISTRICT': 4,\n",
       "   'Latitude': 37.238489,\n",
       "   'Longitude': -85.927053,\n",
       "   'Status': 'Open',\n",
       "   'Facility_T': 'Rest Area'},\n",
       "  'geometry': {'type': 'Point',\n",
       "   'coordinates': (4869709.879336134, 3610465.3578932285)}},\n",
       " {'type': 'Feature',\n",
       "  'properties': {'DESCRIPTIO': 'Hart County Rest Area Southbound I-65',\n",
       "   'DISTRICT': 4,\n",
       "   'Latitude': 37.238955,\n",
       "   'Longitude': -85.929602,\n",
       "   'Status': 'Open',\n",
       "   'Facility_T': 'Rest Area'},\n",
       "  'geometry': {'type': 'Point',\n",
       "   'coordinates': (4868968.17281431, 3610636.4467898905)}},\n",
       " {'type': 'Feature',\n",
       "  'properties': {'DESCRIPTIO': 'Kenton County Trucker Rest Haven Southbound I-75',\n",
       "   'DISTRICT': 6,\n",
       "   'Latitude': 38.818981,\n",
       "   'Longitude': -84.60123,\n",
       "   'Status': 'Open',\n",
       "   'Facility_T': 'Trucker Rest Haven'},\n",
       "  'geometry': {'type': 'Point',\n",
       "   'coordinates': (5248574.764321387, 4187952.9076402336)}},\n",
       " {'type': 'Feature',\n",
       "  'properties': {'DESCRIPTIO': 'Laurel County Trucker Rest Haven Northbound I-75',\n",
       "   'DISTRICT': 11,\n",
       "   'Latitude': 37.042895,\n",
       "   'Longitude': -84.097301,\n",
       "   'Status': 'Open',\n",
       "   'Facility_T': 'Trucker Rest Haven'},\n",
       "  'geometry': {'type': 'Point',\n",
       "   'coordinates': (5403601.375855476, 3543471.3350573927)}},\n",
       " {'type': 'Feature',\n",
       "  'properties': {'DESCRIPTIO': 'Laurel County Trucker Rest Haven Southbound I-75',\n",
       "   'DISTRICT': 11,\n",
       "   'Latitude': 37.047545,\n",
       "   'Longitude': -84.099337,\n",
       "   'Status': 'Open',\n",
       "   'Facility_T': 'Trucker Rest Haven'},\n",
       "  'geometry': {'type': 'Point',\n",
       "   'coordinates': (5402977.27342914, 3545153.642388314)}},\n",
       " {'type': 'Feature',\n",
       "  'properties': {'DESCRIPTIO': 'McCracken County Eastbound I-24',\n",
       "   'DISTRICT': 1,\n",
       "   'Latitude': 37.050921,\n",
       "   'Longitude': -88.652915,\n",
       "   'Status': 'Open',\n",
       "   'Facility_T': 'Rest Area'},\n",
       "  'geometry': {'type': 'Point',\n",
       "   'coordinates': (4074201.722324133, 3555297.86553815)}},\n",
       " {'type': 'Feature',\n",
       "  'properties': {'DESCRIPTIO': 'Ohio County Service Center WK-9001',\n",
       "   'DISTRICT': 2,\n",
       "   'Latitude': 37.376437,\n",
       "   'Longitude': -86.827028,\n",
       "   'Status': 'Open',\n",
       "   'Facility_T': 'Service Center'},\n",
       "  'geometry': {'type': 'Point',\n",
       "   'coordinates': (4608306.508443132, 3662449.388767481)}},\n",
       " {'type': 'Feature',\n",
       "  'properties': {'DESCRIPTIO': 'Oldham County Rest Area Northbound I-71',\n",
       "   'DISTRICT': 5,\n",
       "   'Latitude': 38.338016,\n",
       "   'Longitude': -85.516005,\n",
       "   'Status': 'Open',\n",
       "   'Facility_T': 'Rest Area'},\n",
       "  'geometry': {'type': 'Point',\n",
       "   'coordinates': (4988365.296880469, 4010859.426197976)}},\n",
       " {'type': 'Feature',\n",
       "  'properties': {'DESCRIPTIO': 'Oldham County Rest Area Southbound I-71',\n",
       "   'DISTRICT': 5,\n",
       "   'Latitude': 38.339607,\n",
       "   'Longitude': -85.517966,\n",
       "   'Status': 'Open',\n",
       "   'Facility_T': 'Rest Area'},\n",
       "  'geometry': {'type': 'Point',\n",
       "   'coordinates': (4987801.408244476, 4011437.3971548975)}},\n",
       " {'type': 'Feature',\n",
       "  'properties': {'DESCRIPTIO': 'Powell County Rest Area KY-9000',\n",
       "   'DISTRICT': 10,\n",
       "   'Latitude': 37.796204,\n",
       "   'Longitude': -83.704852,\n",
       "   'Status': 'Open',\n",
       "   'Facility_T': 'Rest Area'},\n",
       "  'geometry': {'type': 'Point',\n",
       "   'coordinates': (5512112.911128551, 3819957.8654165566)}},\n",
       " {'type': 'Feature',\n",
       "  'properties': {'DESCRIPTIO': 'Rowan County Rest Area Eastbound I-64',\n",
       "   'DISTRICT': 9,\n",
       "   'Latitude': 38.236439,\n",
       "   'Longitude': -83.438447,\n",
       "   'Status': 'Open',\n",
       "   'Facility_T': 'Rest Area'},\n",
       "  'geometry': {'type': 'Point',\n",
       "   'coordinates': (5585094.6139181405, 3982007.699452728)}},\n",
       " {'type': 'Feature',\n",
       "  'properties': {'DESCRIPTIO': 'Rowan County Rest Area Westbound I-64',\n",
       "   'DISTRICT': 9,\n",
       "   'Latitude': 38.230828,\n",
       "   'Longitude': -83.443383,\n",
       "   'Status': 'Open',\n",
       "   'Facility_T': 'Rest Area'},\n",
       "  'geometry': {'type': 'Point',\n",
       "   'coordinates': (5583727.855168715, 3979930.015287891)}},\n",
       " {'type': 'Feature',\n",
       "  'properties': {'DESCRIPTIO': 'Scott County Rest Area Northbound I-75',\n",
       "   'DISTRICT': 7,\n",
       "   'Latitude': 38.247873,\n",
       "   'Longitude': -84.545895,\n",
       "   'Status': 'Open',\n",
       "   'Facility_T': 'Rest Area'},\n",
       "  'geometry': {'type': 'Point',\n",
       "   'coordinates': (5267024.271713644, 3980180.0813888162)}},\n",
       " {'type': 'Feature',\n",
       "  'properties': {'DESCRIPTIO': 'Scott County Rest Area Southbound I-75',\n",
       "   'DISTRICT': 7,\n",
       "   'Latitude': 38.249915,\n",
       "   'Longitude': -84.548436,\n",
       "   'Status': 'Open',\n",
       "   'Facility_T': 'Rest Area'},\n",
       "  'geometry': {'type': 'Point',\n",
       "   'coordinates': (5266285.060265556, 3980914.2078733146)}},\n",
       " {'type': 'Feature',\n",
       "  'properties': {'DESCRIPTIO': 'Shelby County Welcome Center Eastbound  I-64',\n",
       "   'DISTRICT': 5,\n",
       "   'Latitude': 38.203385,\n",
       "   'Longitude': -85.329298,\n",
       "   'Status': 'Open',\n",
       "   'Facility_T': 'Welcome Center'},\n",
       "  'geometry': {'type': 'Point',\n",
       "   'coordinates': (5042136.8891402185, 3962021.6505141407)}},\n",
       " {'type': 'Feature',\n",
       "  'properties': {'DESCRIPTIO': 'Simpson County Welcome Center Northbound I-65',\n",
       "   'DISTRICT': 3,\n",
       "   'Latitude': 36.643445,\n",
       "   'Longitude': -86.56869,\n",
       "   'Status': 'Open',\n",
       "   'Facility_T': 'Welcome Center'},\n",
       "  'geometry': {'type': 'Point',\n",
       "   'coordinates': (4681026.511624888, 3394808.377790734)}},\n",
       " {'type': 'Feature',\n",
       "  'properties': {'DESCRIPTIO': 'Whitley County Welcome Center Northbound I-75',\n",
       "   'DISTRICT': 11,\n",
       "   'Latitude': 36.616147,\n",
       "   'Longitude': -84.105513,\n",
       "   'Status': 'Open',\n",
       "   'Facility_T': 'Welcome Center'},\n",
       "  'geometry': {'type': 'Point',\n",
       "   'coordinates': (5403942.91913563, 3388067.7449465543)}},\n",
       " {'type': 'Feature',\n",
       "  'properties': {'DESCRIPTIO': 'Woodford County Rest Area Eastbound I-64',\n",
       "   'DISTRICT': 7,\n",
       "   'Latitude': 38.168718,\n",
       "   'Longitude': -84.766075,\n",
       "   'Status': 'Open',\n",
       "   'Facility_T': 'Rest Area'},\n",
       "  'geometry': {'type': 'Point',\n",
       "   'coordinates': (5204103.503854632, 3950616.540778473)}},\n",
       " {'type': 'Feature',\n",
       "  'properties': {'DESCRIPTIO': 'Woodford County Rest Area Westbound I-64',\n",
       "   'DISTRICT': 7,\n",
       "   'Latitude': 38.170222,\n",
       "   'Longitude': -84.766152,\n",
       "   'Status': 'Open',\n",
       "   'Facility_T': 'Rest Area'},\n",
       "  'geometry': {'type': 'Point',\n",
       "   'coordinates': (5204075.595445886, 3951163.945851639)}}]"
      ]
     },
     "execution_count": 15,
     "metadata": {},
     "output_type": "execute_result"
    }
   ],
   "source": [
    "features.__geo_interface__['features']"
   ]
  },
  {
   "cell_type": "code",
   "execution_count": null,
   "metadata": {},
   "outputs": [],
   "source": []
  }
 ],
 "metadata": {
  "deepnote": {},
  "deepnote_execution_queue": [],
  "deepnote_notebook_id": "a8c0b128-ef4e-4f01-bf5b-4d62433a9987",
  "hide_input": false,
  "kernelspec": {
   "display_name": "Python 3",
   "language": "python",
   "name": "python3"
  },
  "language_info": {
   "codemirror_mode": {
    "name": "ipython",
    "version": 3
   },
   "file_extension": ".py",
   "mimetype": "text/x-python",
   "name": "python",
   "nbconvert_exporter": "python",
   "pygments_lexer": "ipython3",
   "version": "3.9.1"
  },
  "toc": {
   "base_numbering": 1,
   "nav_menu": {},
   "number_sections": true,
   "sideBar": true,
   "skip_h1_title": false,
   "title_cell": "Table of Contents",
   "title_sidebar": "Contents",
   "toc_cell": false,
   "toc_position": {},
   "toc_section_display": true,
   "toc_window_display": false
  },
  "varInspector": {
   "cols": {
    "lenName": 16,
    "lenType": 16,
    "lenVar": 40
   },
   "kernels_config": {
    "python": {
     "delete_cmd_postfix": "",
     "delete_cmd_prefix": "del ",
     "library": "var_list.py",
     "varRefreshCmd": "print(var_dic_list())"
    },
    "r": {
     "delete_cmd_postfix": ") ",
     "delete_cmd_prefix": "rm(",
     "library": "var_list.r",
     "varRefreshCmd": "cat(var_dic_list()) "
    }
   },
   "types_to_exclude": [
    "module",
    "function",
    "builtin_function_or_method",
    "instance",
    "_Feature"
   ],
   "window_display": false
  }
 },
 "nbformat": 4,
 "nbformat_minor": 2
}
